{
 "cells": [
  {
   "cell_type": "code",
   "execution_count": 21,
   "metadata": {
    "collapsed": false
   },
   "outputs": [],
   "source": [
    "import numpy as np\n",
    "from pandas import Series, DataFrame\n",
    "import pandas as pd\n",
    "from datetime import datetime"
   ]
  },
  {
   "cell_type": "code",
   "execution_count": 5,
   "metadata": {
    "collapsed": false
   },
   "outputs": [
    {
     "data": {
      "text/plain": [
       "[pandas.tslib.Timestamp,\n",
       " pandas.tslib._Timestamp,\n",
       " datetime.datetime,\n",
       " datetime.date,\n",
       " object]"
      ]
     },
     "execution_count": 5,
     "metadata": {},
     "output_type": "execute_result"
    }
   ],
   "source": [
    "pd.Timestamp.mro()"
   ]
  },
  {
   "cell_type": "code",
   "execution_count": 8,
   "metadata": {
    "collapsed": false
   },
   "outputs": [
    {
     "data": {
      "text/plain": [
       "Timestamp('2016-04-17 23:14:00')"
      ]
     },
     "execution_count": 8,
     "metadata": {},
     "output_type": "execute_result"
    }
   ],
   "source": [
    "stamp = pd.Timestamp('17/04/2016 23:14:00')\n",
    "stamp"
   ]
  },
  {
   "cell_type": "code",
   "execution_count": 10,
   "metadata": {
    "collapsed": false
   },
   "outputs": [
    {
     "data": {
      "text/plain": [
       "1460934840000000000"
      ]
     },
     "execution_count": 10,
     "metadata": {},
     "output_type": "execute_result"
    }
   ],
   "source": [
    "# the nano second value\n",
    "stamp.value"
   ]
  },
  {
   "cell_type": "code",
   "execution_count": 11,
   "metadata": {
    "collapsed": false
   },
   "outputs": [
    {
     "data": {
      "text/plain": [
       "DatetimeIndex(['2007-05-19', '2004-01-07', '2004-02-07'], dtype='datetime64[ns]', freq=None)"
      ]
     },
     "execution_count": 11,
     "metadata": {},
     "output_type": "execute_result"
    }
   ],
   "source": [
    "dates = ['2007/05/19', '01/07/2004', '02/07/2004']\n",
    "pd.to_datetime(dates)"
   ]
  },
  {
   "cell_type": "code",
   "execution_count": 13,
   "metadata": {
    "collapsed": false
   },
   "outputs": [
    {
     "data": {
      "text/plain": [
       "2007-05-19    0\n",
       "2004-01-07    1\n",
       "2004-02-07    2\n",
       "dtype: int64"
      ]
     },
     "execution_count": 13,
     "metadata": {},
     "output_type": "execute_result"
    }
   ],
   "source": [
    "ts = Series(range(3), index=pd.to_datetime(dates))\n",
    "ts"
   ]
  },
  {
   "cell_type": "markdown",
   "metadata": {},
   "source": [
    "# Indexing"
   ]
  },
  {
   "cell_type": "code",
   "execution_count": 15,
   "metadata": {
    "collapsed": false
   },
   "outputs": [
    {
     "data": {
      "text/plain": [
       "DatetimeIndex(['2012-07-17', '2012-07-18', '2012-07-19', '2012-07-20',\n",
       "               '2012-07-21', '2012-07-22', '2012-07-23', '2012-07-24',\n",
       "               '2012-07-25', '2012-07-26',\n",
       "               ...\n",
       "               '2015-04-03', '2015-04-04', '2015-04-05', '2015-04-06',\n",
       "               '2015-04-07', '2015-04-08', '2015-04-09', '2015-04-10',\n",
       "               '2015-04-11', '2015-04-12'],\n",
       "              dtype='datetime64[ns]', length=1000, freq='D')"
      ]
     },
     "execution_count": 15,
     "metadata": {},
     "output_type": "execute_result"
    }
   ],
   "source": [
    "rng = pd.date_range('2012-07-17', periods=1000)\n",
    "rng"
   ]
  },
  {
   "cell_type": "code",
   "execution_count": 17,
   "metadata": {
    "collapsed": false
   },
   "outputs": [
    {
     "data": {
      "text/plain": [
       "2012-07-17      0\n",
       "2012-07-18      1\n",
       "2012-07-19      2\n",
       "2012-07-20      3\n",
       "2012-07-21      4\n",
       "2012-07-22      5\n",
       "2012-07-23      6\n",
       "2012-07-24      7\n",
       "2012-07-25      8\n",
       "2012-07-26      9\n",
       "2012-07-27     10\n",
       "2012-07-28     11\n",
       "2012-07-29     12\n",
       "2012-07-30     13\n",
       "2012-07-31     14\n",
       "2012-08-01     15\n",
       "2012-08-02     16\n",
       "2012-08-03     17\n",
       "2012-08-04     18\n",
       "2012-08-05     19\n",
       "2012-08-06     20\n",
       "2012-08-07     21\n",
       "2012-08-08     22\n",
       "2012-08-09     23\n",
       "2012-08-10     24\n",
       "2012-08-11     25\n",
       "2012-08-12     26\n",
       "2012-08-13     27\n",
       "2012-08-14     28\n",
       "2012-08-15     29\n",
       "             ... \n",
       "2015-03-14    970\n",
       "2015-03-15    971\n",
       "2015-03-16    972\n",
       "2015-03-17    973\n",
       "2015-03-18    974\n",
       "2015-03-19    975\n",
       "2015-03-20    976\n",
       "2015-03-21    977\n",
       "2015-03-22    978\n",
       "2015-03-23    979\n",
       "2015-03-24    980\n",
       "2015-03-25    981\n",
       "2015-03-26    982\n",
       "2015-03-27    983\n",
       "2015-03-28    984\n",
       "2015-03-29    985\n",
       "2015-03-30    986\n",
       "2015-03-31    987\n",
       "2015-04-01    988\n",
       "2015-04-02    989\n",
       "2015-04-03    990\n",
       "2015-04-04    991\n",
       "2015-04-05    992\n",
       "2015-04-06    993\n",
       "2015-04-07    994\n",
       "2015-04-08    995\n",
       "2015-04-09    996\n",
       "2015-04-10    997\n",
       "2015-04-11    998\n",
       "2015-04-12    999\n",
       "Freq: D, dtype: int64"
      ]
     },
     "execution_count": 17,
     "metadata": {},
     "output_type": "execute_result"
    }
   ],
   "source": [
    "ts = Series(np.arange(1000), index=rng)\n",
    "ts"
   ]
  },
  {
   "cell_type": "code",
   "execution_count": 23,
   "metadata": {
    "collapsed": false
   },
   "outputs": [
    {
     "data": {
      "text/plain": [
       "133"
      ]
     },
     "execution_count": 23,
     "metadata": {},
     "output_type": "execute_result"
    }
   ],
   "source": [
    "ts[datetime(2012, 11, 27)]"
   ]
  },
  {
   "cell_type": "code",
   "execution_count": 24,
   "metadata": {
    "collapsed": false
   },
   "outputs": [
    {
     "data": {
      "text/plain": [
       "133"
      ]
     },
     "execution_count": 24,
     "metadata": {},
     "output_type": "execute_result"
    }
   ],
   "source": [
    "ts['2012-11-27']"
   ]
  },
  {
   "cell_type": "code",
   "execution_count": 25,
   "metadata": {
    "collapsed": false
   },
   "outputs": [
    {
     "data": {
      "text/plain": [
       "133"
      ]
     },
     "execution_count": 25,
     "metadata": {},
     "output_type": "execute_result"
    }
   ],
   "source": [
    "ts[ts.index[133]]"
   ]
  },
  {
   "cell_type": "code",
   "execution_count": 26,
   "metadata": {
    "collapsed": false
   },
   "outputs": [
    {
     "data": {
      "text/plain": [
       "2012-07-17     0\n",
       "2012-07-18     1\n",
       "2012-07-19     2\n",
       "2012-07-20     3\n",
       "2012-07-21     4\n",
       "2012-07-22     5\n",
       "2012-07-23     6\n",
       "2012-07-24     7\n",
       "2012-07-25     8\n",
       "2012-07-26     9\n",
       "2012-07-27    10\n",
       "Freq: D, dtype: int64"
      ]
     },
     "execution_count": 26,
     "metadata": {},
     "output_type": "execute_result"
    }
   ],
   "source": [
    "ts[:ts.index[10]]"
   ]
  },
  {
   "cell_type": "code",
   "execution_count": 28,
   "metadata": {
    "collapsed": false
   },
   "outputs": [
    {
     "data": {
      "text/plain": [
       "2012-07-19     2\n",
       "2012-07-20     3\n",
       "2012-07-21     4\n",
       "2012-07-22     5\n",
       "2012-07-23     6\n",
       "2012-07-24     7\n",
       "2012-07-25     8\n",
       "2012-07-26     9\n",
       "2012-07-27    10\n",
       "Freq: D, dtype: int64"
      ]
     },
     "execution_count": 28,
     "metadata": {},
     "output_type": "execute_result"
    }
   ],
   "source": [
    "ts['2012-07-18 07:00' : '2012-07-27 12:00']"
   ]
  },
  {
   "cell_type": "code",
   "execution_count": 31,
   "metadata": {
    "collapsed": false
   },
   "outputs": [
    {
     "data": {
      "text/plain": [
       "2013-11-30    501\n",
       "2013-07-15    363\n",
       "2015-04-03    990\n",
       "2013-05-11    298\n",
       "2014-06-07    690\n",
       "2012-11-17    123\n",
       "2013-09-06    416\n",
       "2014-01-21    553\n",
       "2012-11-25    131\n",
       "2012-10-03     78\n",
       "2014-07-19    732\n",
       "2014-11-15    851\n",
       "2014-04-29    651\n",
       "2013-07-02    350\n",
       "2012-08-03     17\n",
       "2014-02-20    583\n",
       "2013-04-20    277\n",
       "2015-03-17    973\n",
       "2013-11-19    490\n",
       "2014-10-06    811\n",
       "2014-01-30    562\n",
       "2014-08-30    774\n",
       "2014-01-10    542\n",
       "2013-11-13    484\n",
       "2013-09-28    438\n",
       "2013-11-21    492\n",
       "2013-10-09    449\n",
       "2013-05-13    300\n",
       "2015-02-19    947\n",
       "2015-03-22    978\n",
       "             ... \n",
       "2012-10-07     82\n",
       "2012-12-24    160\n",
       "2013-10-06    446\n",
       "2014-03-12    603\n",
       "2013-07-29    377\n",
       "2012-11-21    127\n",
       "2014-12-01    867\n",
       "2013-05-12    299\n",
       "2013-01-18    185\n",
       "2012-11-01    107\n",
       "2013-02-01    199\n",
       "2014-09-20    795\n",
       "2012-11-30    136\n",
       "2013-06-30    348\n",
       "2014-02-13    576\n",
       "2014-06-17    700\n",
       "2013-05-23    310\n",
       "2015-03-26    982\n",
       "2014-09-14    789\n",
       "2014-01-28    560\n",
       "2012-08-07     21\n",
       "2013-06-25    343\n",
       "2013-03-03    229\n",
       "2015-01-25    922\n",
       "2015-02-09    937\n",
       "2014-08-08    752\n",
       "2012-09-20     65\n",
       "2012-09-12     57\n",
       "2013-12-05    506\n",
       "2013-10-28    468\n",
       "dtype: int64"
      ]
     },
     "execution_count": 31,
     "metadata": {},
     "output_type": "execute_result"
    }
   ],
   "source": [
    "ts2 = ts.take(np.random.permutation(len(ts)))\n",
    "ts2"
   ]
  },
  {
   "cell_type": "code",
   "execution_count": 33,
   "metadata": {
    "collapsed": false
   },
   "outputs": [
    {
     "data": {
      "text/plain": [
       "2012-07-20     3\n",
       "2012-07-22     5\n",
       "2012-07-23     6\n",
       "2012-07-26     9\n",
       "2012-07-19     2\n",
       "2012-07-24     7\n",
       "2012-07-27    10\n",
       "2012-07-21     4\n",
       "2012-07-25     8\n",
       "dtype: int64"
      ]
     },
     "execution_count": 33,
     "metadata": {},
     "output_type": "execute_result"
    }
   ],
   "source": [
    "ts2['2012-07-18 07:00' : '2012-07-27 12:00']"
   ]
  },
  {
   "cell_type": "code",
   "execution_count": 35,
   "metadata": {
    "collapsed": false
   },
   "outputs": [
    {
     "data": {
      "text/plain": [
       "2012-07-17      0\n",
       "2012-07-18      1\n",
       "2012-07-19      2\n",
       "2012-07-20      3\n",
       "2012-07-21      4\n",
       "2012-07-22      5\n",
       "2012-07-23      6\n",
       "2012-07-24      7\n",
       "2012-07-25      8\n",
       "2012-07-26      9\n",
       "2012-07-27     10\n",
       "2012-07-28     11\n",
       "2012-07-29     12\n",
       "2012-07-30     13\n",
       "2012-07-31     14\n",
       "2012-08-01     15\n",
       "2012-08-02     16\n",
       "2012-08-03     17\n",
       "2012-08-04     18\n",
       "2012-08-05     19\n",
       "2012-08-06     20\n",
       "2012-08-07     21\n",
       "2012-08-08     22\n",
       "2012-08-09     23\n",
       "2012-08-10     24\n",
       "2012-08-11     25\n",
       "2012-08-12     26\n",
       "2012-08-13     27\n",
       "2012-08-14     28\n",
       "2012-08-15     29\n",
       "             ... \n",
       "2015-03-14    970\n",
       "2015-03-15    971\n",
       "2015-03-16    972\n",
       "2015-03-17    973\n",
       "2015-03-18    974\n",
       "2015-03-19    975\n",
       "2015-03-20    976\n",
       "2015-03-21    977\n",
       "2015-03-22    978\n",
       "2015-03-23    979\n",
       "2015-03-24    980\n",
       "2015-03-25    981\n",
       "2015-03-26    982\n",
       "2015-03-27    983\n",
       "2015-03-28    984\n",
       "2015-03-29    985\n",
       "2015-03-30    986\n",
       "2015-03-31    987\n",
       "2015-04-01    988\n",
       "2015-04-02    989\n",
       "2015-04-03    990\n",
       "2015-04-04    991\n",
       "2015-04-05    992\n",
       "2015-04-06    993\n",
       "2015-04-07    994\n",
       "2015-04-08    995\n",
       "2015-04-09    996\n",
       "2015-04-10    997\n",
       "2015-04-11    998\n",
       "2015-04-12    999\n",
       "dtype: int64"
      ]
     },
     "execution_count": 35,
     "metadata": {},
     "output_type": "execute_result"
    }
   ],
   "source": [
    "ts2.sort_index()"
   ]
  },
  {
   "cell_type": "code",
   "execution_count": 36,
   "metadata": {
    "collapsed": false
   },
   "outputs": [
    {
     "data": {
      "text/plain": [
       "2012-07-17      0\n",
       "2012-07-18      1\n",
       "2012-07-19      2\n",
       "2012-07-20      3\n",
       "2012-07-21      4\n",
       "2012-07-22      5\n",
       "2012-07-23      6\n",
       "2012-07-24      7\n",
       "2012-07-25      8\n",
       "2012-07-26      9\n",
       "2012-07-27     10\n",
       "2012-07-28     11\n",
       "2012-07-29     12\n",
       "2012-07-30     13\n",
       "2012-07-31     14\n",
       "2012-08-01     15\n",
       "2012-08-02     16\n",
       "2012-08-03     17\n",
       "2012-08-04     18\n",
       "2012-08-05     19\n",
       "2012-08-06     20\n",
       "2012-08-07     21\n",
       "2012-08-08     22\n",
       "2012-08-09     23\n",
       "2012-08-10     24\n",
       "2012-08-11     25\n",
       "2012-08-12     26\n",
       "2012-08-13     27\n",
       "2012-08-14     28\n",
       "2012-08-15     29\n",
       "             ... \n",
       "2013-12-02    503\n",
       "2013-12-03    504\n",
       "2013-12-04    505\n",
       "2013-12-05    506\n",
       "2013-12-06    507\n",
       "2013-12-07    508\n",
       "2013-12-08    509\n",
       "2013-12-09    510\n",
       "2013-12-10    511\n",
       "2013-12-11    512\n",
       "2013-12-12    513\n",
       "2013-12-13    514\n",
       "2013-12-14    515\n",
       "2013-12-15    516\n",
       "2013-12-16    517\n",
       "2013-12-17    518\n",
       "2013-12-18    519\n",
       "2013-12-19    520\n",
       "2013-12-20    521\n",
       "2013-12-21    522\n",
       "2013-12-22    523\n",
       "2013-12-23    524\n",
       "2013-12-24    525\n",
       "2013-12-25    526\n",
       "2013-12-26    527\n",
       "2013-12-27    528\n",
       "2013-12-28    529\n",
       "2013-12-29    530\n",
       "2013-12-30    531\n",
       "2013-12-31    532\n",
       "Freq: D, dtype: int64"
      ]
     },
     "execution_count": 36,
     "metadata": {},
     "output_type": "execute_result"
    }
   ],
   "source": [
    "ts['2012-07':'2013']"
   ]
  },
  {
   "cell_type": "code",
   "execution_count": 39,
   "metadata": {
    "collapsed": false
   },
   "outputs": [],
   "source": [
    "df = DataFrame(np.arange(4000).reshape((1000,4)), index=rng, columns=['A', 'B', 'C', 'D'])"
   ]
  },
  {
   "cell_type": "code",
   "execution_count": 43,
   "metadata": {
    "collapsed": false
   },
   "outputs": [
    {
     "data": {
      "text/html": [
       "<div>\n",
       "<table border=\"1\" class=\"dataframe\">\n",
       "  <thead>\n",
       "    <tr style=\"text-align: right;\">\n",
       "      <th></th>\n",
       "      <th>A</th>\n",
       "      <th>B</th>\n",
       "      <th>C</th>\n",
       "      <th>D</th>\n",
       "    </tr>\n",
       "  </thead>\n",
       "  <tbody>\n",
       "    <tr>\n",
       "      <th>2013-01-01</th>\n",
       "      <td>672</td>\n",
       "      <td>673</td>\n",
       "      <td>674</td>\n",
       "      <td>675</td>\n",
       "    </tr>\n",
       "    <tr>\n",
       "      <th>2013-01-02</th>\n",
       "      <td>676</td>\n",
       "      <td>677</td>\n",
       "      <td>678</td>\n",
       "      <td>679</td>\n",
       "    </tr>\n",
       "    <tr>\n",
       "      <th>2013-01-03</th>\n",
       "      <td>680</td>\n",
       "      <td>681</td>\n",
       "      <td>682</td>\n",
       "      <td>683</td>\n",
       "    </tr>\n",
       "    <tr>\n",
       "      <th>2013-01-04</th>\n",
       "      <td>684</td>\n",
       "      <td>685</td>\n",
       "      <td>686</td>\n",
       "      <td>687</td>\n",
       "    </tr>\n",
       "    <tr>\n",
       "      <th>2013-01-05</th>\n",
       "      <td>688</td>\n",
       "      <td>689</td>\n",
       "      <td>690</td>\n",
       "      <td>691</td>\n",
       "    </tr>\n",
       "    <tr>\n",
       "      <th>2013-01-06</th>\n",
       "      <td>692</td>\n",
       "      <td>693</td>\n",
       "      <td>694</td>\n",
       "      <td>695</td>\n",
       "    </tr>\n",
       "  </tbody>\n",
       "</table>\n",
       "</div>"
      ],
      "text/plain": [
       "              A    B    C    D\n",
       "2013-01-01  672  673  674  675\n",
       "2013-01-02  676  677  678  679\n",
       "2013-01-03  680  681  682  683\n",
       "2013-01-04  684  685  686  687\n",
       "2013-01-05  688  689  690  691\n",
       "2013-01-06  692  693  694  695"
      ]
     },
     "execution_count": 43,
     "metadata": {},
     "output_type": "execute_result"
    }
   ],
   "source": [
    "start = datetime(2013, 1, 1)\n",
    "df.ix[start:start+pd.offsets.Day(5)]"
   ]
  },
  {
   "cell_type": "code",
   "execution_count": 46,
   "metadata": {
    "collapsed": false
   },
   "outputs": [
    {
     "data": {
      "text/plain": [
       "[Timestamp('2000-01-21 00:00:00', offset='WOM-3FRI'),\n",
       " Timestamp('2000-02-18 00:00:00', offset='WOM-3FRI'),\n",
       " Timestamp('2000-03-17 00:00:00', offset='WOM-3FRI'),\n",
       " Timestamp('2000-04-21 00:00:00', offset='WOM-3FRI'),\n",
       " Timestamp('2000-05-19 00:00:00', offset='WOM-3FRI')]"
      ]
     },
     "execution_count": 46,
     "metadata": {},
     "output_type": "execute_result"
    }
   ],
   "source": [
    "# 3rd friday of each month\n",
    "list(pd.date_range('2000-01-01', periods=5, freq='WOM-3FRI'))"
   ]
  },
  {
   "cell_type": "code",
   "execution_count": null,
   "metadata": {
    "collapsed": true
   },
   "outputs": [],
   "source": []
  }
 ],
 "metadata": {
  "kernelspec": {
   "display_name": "Python 3",
   "language": "python",
   "name": "python3"
  },
  "language_info": {
   "codemirror_mode": {
    "name": "ipython",
    "version": 3
   },
   "file_extension": ".py",
   "mimetype": "text/x-python",
   "name": "python",
   "nbconvert_exporter": "python",
   "pygments_lexer": "ipython3",
   "version": "3.4.4"
  }
 },
 "nbformat": 4,
 "nbformat_minor": 0
}
