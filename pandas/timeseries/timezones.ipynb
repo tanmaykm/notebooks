{
 "cells": [
  {
   "cell_type": "code",
   "execution_count": 1,
   "metadata": {
    "collapsed": true
   },
   "outputs": [],
   "source": [
    "import numpy as np\n",
    "from pandas import Series, DataFrame\n",
    "import pandas as pd\n",
    "from datetime import datetime\n",
    "import matplotlib as plt"
   ]
  },
  {
   "cell_type": "code",
   "execution_count": 14,
   "metadata": {
    "collapsed": false
   },
   "outputs": [
    {
     "data": {
      "text/plain": [
       "Timestamp('2016-04-14 04:29:35.898753')"
      ]
     },
     "execution_count": 14,
     "metadata": {},
     "output_type": "execute_result"
    }
   ],
   "source": [
    "# create a naive timestamp (stamp.tz is not assigned)\n",
    "stamp_naive = pd.Timestamp('now')\n",
    "stamp_naive"
   ]
  },
  {
   "cell_type": "code",
   "execution_count": 15,
   "metadata": {
    "collapsed": true
   },
   "outputs": [],
   "source": [
    "stamp_naive.tz"
   ]
  },
  {
   "cell_type": "code",
   "execution_count": 16,
   "metadata": {
    "collapsed": false
   },
   "outputs": [
    {
     "data": {
      "text/plain": [
       "Timestamp('2016-04-14 09:59:36.902184+0530', tz='Asia/Calcutta')"
      ]
     },
     "execution_count": 16,
     "metadata": {},
     "output_type": "execute_result"
    }
   ],
   "source": [
    "# create a timestamp that's timezone aware\n",
    "stamp = pd.Timestamp('now', tz='Asia/Calcutta')\n",
    "stamp"
   ]
  },
  {
   "cell_type": "code",
   "execution_count": 17,
   "metadata": {
    "collapsed": false
   },
   "outputs": [
    {
     "data": {
      "text/plain": [
       "<DstTzInfo 'Asia/Calcutta' IST+5:30:00 STD>"
      ]
     },
     "execution_count": 17,
     "metadata": {},
     "output_type": "execute_result"
    }
   ],
   "source": [
    "stamp.tz"
   ]
  },
  {
   "cell_type": "code",
   "execution_count": 21,
   "metadata": {
    "collapsed": false
   },
   "outputs": [
    {
     "data": {
      "text/plain": [
       "Timestamp('2016-04-14 04:29:35.898753+0000', tz='UTC')"
      ]
     },
     "execution_count": 21,
     "metadata": {},
     "output_type": "execute_result"
    }
   ],
   "source": [
    "# convert a naive timestamp to tz aware\n",
    "stamp2 = stamp_naive.tz_localize('UTC')\n",
    "stamp2"
   ]
  },
  {
   "cell_type": "code",
   "execution_count": 26,
   "metadata": {
    "collapsed": false
   },
   "outputs": [
    {
     "data": {
      "text/plain": [
       "Timestamp('2016-04-13 23:29:35.898753-0500', tz='US/Central')"
      ]
     },
     "execution_count": 26,
     "metadata": {},
     "output_type": "execute_result"
    }
   ],
   "source": [
    "stamp3 = stamp2.tz_convert('US/Central')\n",
    "stamp3"
   ]
  },
  {
   "cell_type": "code",
   "execution_count": 27,
   "metadata": {
    "collapsed": false
   },
   "outputs": [
    {
     "name": "stdout",
     "output_type": "stream",
     "text": [
      "stamp_native: 1460608175898753000  stamp2: 1460608175898753000  stamp3: 1460608175898753000\n"
     ]
    }
   ],
   "source": [
    "print(\"stamp_native:\", stamp_naive.value, \" stamp2:\", stamp2.value, \" stamp3:\", stamp3.value)"
   ]
  },
  {
   "cell_type": "code",
   "execution_count": 31,
   "metadata": {
    "collapsed": false
   },
   "outputs": [
    {
     "data": {
      "text/plain": [
       "True"
      ]
     },
     "execution_count": 31,
     "metadata": {},
     "output_type": "execute_result"
    }
   ],
   "source": [
    "stamp3 == stamp2"
   ]
  },
  {
   "cell_type": "code",
   "execution_count": 33,
   "metadata": {
    "collapsed": false
   },
   "outputs": [
    {
     "data": {
      "text/plain": [
       "2012-03-12 00:00:00+05:30     0\n",
       "2012-03-13 00:00:00+05:30     1\n",
       "2012-03-14 00:00:00+05:30     2\n",
       "2012-03-15 00:00:00+05:30     3\n",
       "2012-03-16 00:00:00+05:30     4\n",
       "2012-03-17 00:00:00+05:30     5\n",
       "2012-03-18 00:00:00+05:30     6\n",
       "2012-03-19 00:00:00+05:30     7\n",
       "2012-03-20 00:00:00+05:30     8\n",
       "2012-03-21 00:00:00+05:30     9\n",
       "2012-03-22 00:00:00+05:30    10\n",
       "2012-03-23 00:00:00+05:30    11\n",
       "2012-03-24 00:00:00+05:30    12\n",
       "2012-03-25 00:00:00+05:30    13\n",
       "2012-03-26 00:00:00+05:30    14\n",
       "2012-03-27 00:00:00+05:30    15\n",
       "2012-03-28 00:00:00+05:30    16\n",
       "2012-03-29 00:00:00+05:30    17\n",
       "2012-03-30 00:00:00+05:30    18\n",
       "2012-03-31 00:00:00+05:30    19\n",
       "Freq: D, dtype: int64"
      ]
     },
     "execution_count": 33,
     "metadata": {},
     "output_type": "execute_result"
    }
   ],
   "source": [
    "rng = pd.date_range('2012-03-12', periods=20, tz='Asia/Calcutta')\n",
    "ts = Series(range(20), index=rng)\n",
    "ts"
   ]
  },
  {
   "cell_type": "code",
   "execution_count": 34,
   "metadata": {
    "collapsed": false
   },
   "outputs": [
    {
     "data": {
      "text/plain": [
       "2012-03-11 13:30:00-05:00     0\n",
       "2012-03-12 13:30:00-05:00     1\n",
       "2012-03-13 13:30:00-05:00     2\n",
       "2012-03-14 13:30:00-05:00     3\n",
       "2012-03-15 13:30:00-05:00     4\n",
       "2012-03-16 13:30:00-05:00     5\n",
       "2012-03-17 13:30:00-05:00     6\n",
       "2012-03-18 13:30:00-05:00     7\n",
       "2012-03-19 13:30:00-05:00     8\n",
       "2012-03-20 13:30:00-05:00     9\n",
       "2012-03-21 13:30:00-05:00    10\n",
       "2012-03-22 13:30:00-05:00    11\n",
       "2012-03-23 13:30:00-05:00    12\n",
       "2012-03-24 13:30:00-05:00    13\n",
       "2012-03-25 13:30:00-05:00    14\n",
       "2012-03-26 13:30:00-05:00    15\n",
       "2012-03-27 13:30:00-05:00    16\n",
       "2012-03-28 13:30:00-05:00    17\n",
       "2012-03-29 13:30:00-05:00    18\n",
       "2012-03-30 13:30:00-05:00    19\n",
       "Freq: D, dtype: int64"
      ]
     },
     "execution_count": 34,
     "metadata": {},
     "output_type": "execute_result"
    }
   ],
   "source": [
    "ts.tz_convert('US/Central')"
   ]
  },
  {
   "cell_type": "code",
   "execution_count": 36,
   "metadata": {
    "collapsed": false
   },
   "outputs": [
    {
     "data": {
      "text/plain": [
       "2"
      ]
     },
     "execution_count": 36,
     "metadata": {},
     "output_type": "execute_result"
    }
   ],
   "source": [
    "ts['2012-03-14']"
   ]
  },
  {
   "cell_type": "code",
   "execution_count": null,
   "metadata": {
    "collapsed": true
   },
   "outputs": [],
   "source": []
  }
 ],
 "metadata": {
  "kernelspec": {
   "display_name": "Python 3",
   "language": "python",
   "name": "python3"
  },
  "language_info": {
   "codemirror_mode": {
    "name": "ipython",
    "version": 3
   },
   "file_extension": ".py",
   "mimetype": "text/x-python",
   "name": "python",
   "nbconvert_exporter": "python",
   "pygments_lexer": "ipython3",
   "version": "3.4.4"
  }
 },
 "nbformat": 4,
 "nbformat_minor": 0
}
