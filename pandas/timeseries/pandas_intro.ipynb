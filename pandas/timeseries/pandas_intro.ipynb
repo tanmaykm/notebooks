{
 "cells": [
  {
   "cell_type": "code",
   "execution_count": 1,
   "metadata": {
    "collapsed": true
   },
   "outputs": [],
   "source": [
    "import numpy as np\n",
    "from pandas import Series, DataFrame\n",
    "import pandas as pd"
   ]
  },
  {
   "cell_type": "code",
   "execution_count": 2,
   "metadata": {
    "collapsed": false
   },
   "outputs": [
    {
     "name": "stdout",
     "output_type": "stream",
     "text": [
      "a    0\n",
      "b    1\n",
      "c    2\n",
      "d    3\n",
      "e    4\n",
      "dtype: int64\n",
      "Index(['a', 'b', 'c', 'd', 'e'], dtype='object')\n"
     ]
    }
   ],
   "source": [
    "index = ['a', 'b', 'c', 'd', 'e']\n",
    "s = Series(np.arange(5), index=index)\n",
    "print(s)\n",
    "print(s.index)"
   ]
  },
  {
   "cell_type": "code",
   "execution_count": 3,
   "metadata": {
    "collapsed": false
   },
   "outputs": [
    {
     "data": {
      "text/plain": [
       "a     0\n",
       "b     1\n",
       "c     4\n",
       "d     9\n",
       "e    16\n",
       "dtype: int64"
      ]
     },
     "execution_count": 3,
     "metadata": {},
     "output_type": "execute_result"
    }
   ],
   "source": [
    "s * s"
   ]
  },
  {
   "cell_type": "code",
   "execution_count": 4,
   "metadata": {
    "collapsed": false
   },
   "outputs": [
    {
     "data": {
      "text/plain": [
       "a    0\n",
       "b    2\n",
       "c    4\n",
       "d    6\n",
       "e    8\n",
       "dtype: int64"
      ]
     },
     "execution_count": 4,
     "metadata": {},
     "output_type": "execute_result"
    }
   ],
   "source": [
    "s * 2"
   ]
  },
  {
   "cell_type": "code",
   "execution_count": 5,
   "metadata": {
    "collapsed": false
   },
   "outputs": [
    {
     "data": {
      "text/plain": [
       "c    2\n",
       "d    3\n",
       "dtype: int64"
      ]
     },
     "execution_count": 5,
     "metadata": {},
     "output_type": "execute_result"
    }
   ],
   "source": [
    "s[2:4]"
   ]
  },
  {
   "cell_type": "code",
   "execution_count": 6,
   "metadata": {
    "collapsed": false
   },
   "outputs": [
    {
     "data": {
      "text/plain": [
       "1"
      ]
     },
     "execution_count": 6,
     "metadata": {},
     "output_type": "execute_result"
    }
   ],
   "source": [
    "s['b']"
   ]
  },
  {
   "cell_type": "code",
   "execution_count": 7,
   "metadata": {
    "collapsed": false
   },
   "outputs": [
    {
     "data": {
      "text/plain": [
       "b    1\n",
       "c    2\n",
       "d    3\n",
       "e    4\n",
       "dtype: int64"
      ]
     },
     "execution_count": 7,
     "metadata": {},
     "output_type": "execute_result"
    }
   ],
   "source": [
    "s['b':]"
   ]
  },
  {
   "cell_type": "code",
   "execution_count": 8,
   "metadata": {
    "collapsed": false
   },
   "outputs": [
    {
     "data": {
      "text/plain": [
       "a    0\n",
       "c    2\n",
       "d    3\n",
       "dtype: int64"
      ]
     },
     "execution_count": 8,
     "metadata": {},
     "output_type": "execute_result"
    }
   ],
   "source": [
    "s[[0,2,3]]"
   ]
  },
  {
   "cell_type": "code",
   "execution_count": 9,
   "metadata": {
    "collapsed": false
   },
   "outputs": [
    {
     "data": {
      "text/plain": [
       "b    1\n",
       "d    3\n",
       "dtype: int64"
      ]
     },
     "execution_count": 9,
     "metadata": {},
     "output_type": "execute_result"
    }
   ],
   "source": [
    "s[['b','d']]"
   ]
  },
  {
   "cell_type": "code",
   "execution_count": 10,
   "metadata": {
    "collapsed": false
   },
   "outputs": [
    {
     "data": {
      "text/plain": [
       "2007-07-16    100.23\n",
       "2007-07-17     98.23\n",
       "2007-07-18     78.98\n",
       "2007-07-19    103.21\n",
       "2007-07-20     87.23\n",
       "2007-07-21     97.56\n",
       "Freq: D, dtype: float64"
      ]
     },
     "execution_count": 10,
     "metadata": {},
     "output_type": "execute_result"
    }
   ],
   "source": [
    "dates = pd.date_range('2007-07-16', '2007-07-21')\n",
    "atemps = Series([100.23, 98.23, 78.98, 103.21, 87.23, 97.56], index=dates)\n",
    "atemps"
   ]
  },
  {
   "cell_type": "code",
   "execution_count": 11,
   "metadata": {
    "collapsed": false
   },
   "outputs": [],
   "source": [
    "idx = atemps.index[2]"
   ]
  },
  {
   "cell_type": "code",
   "execution_count": 12,
   "metadata": {
    "collapsed": false
   },
   "outputs": [
    {
     "data": {
      "text/plain": [
       "78.980000000000004"
      ]
     },
     "execution_count": 12,
     "metadata": {},
     "output_type": "execute_result"
    }
   ],
   "source": [
    "atemps[idx]"
   ]
  },
  {
   "cell_type": "code",
   "execution_count": 13,
   "metadata": {
    "collapsed": false
   },
   "outputs": [
    {
     "data": {
      "text/html": [
       "<div>\n",
       "<table border=\"1\" class=\"dataframe\">\n",
       "  <thead>\n",
       "    <tr style=\"text-align: right;\">\n",
       "      <th></th>\n",
       "      <th>Austin</th>\n",
       "      <th>Sandiago</th>\n",
       "    </tr>\n",
       "  </thead>\n",
       "  <tbody>\n",
       "    <tr>\n",
       "      <th>2007-07-16</th>\n",
       "      <td>100.23</td>\n",
       "      <td>76.23</td>\n",
       "    </tr>\n",
       "    <tr>\n",
       "      <th>2007-07-17</th>\n",
       "      <td>98.23</td>\n",
       "      <td>67.56</td>\n",
       "    </tr>\n",
       "    <tr>\n",
       "      <th>2007-07-18</th>\n",
       "      <td>78.98</td>\n",
       "      <td>87.23</td>\n",
       "    </tr>\n",
       "    <tr>\n",
       "      <th>2007-07-19</th>\n",
       "      <td>103.21</td>\n",
       "      <td>67.65</td>\n",
       "    </tr>\n",
       "    <tr>\n",
       "      <th>2007-07-20</th>\n",
       "      <td>87.23</td>\n",
       "      <td>91.54</td>\n",
       "    </tr>\n",
       "    <tr>\n",
       "      <th>2007-07-21</th>\n",
       "      <td>97.56</td>\n",
       "      <td>86.98</td>\n",
       "    </tr>\n",
       "  </tbody>\n",
       "</table>\n",
       "</div>"
      ],
      "text/plain": [
       "            Austin  Sandiago\n",
       "2007-07-16  100.23     76.23\n",
       "2007-07-17   98.23     67.56\n",
       "2007-07-18   78.98     87.23\n",
       "2007-07-19  103.21     67.65\n",
       "2007-07-20   87.23     91.54\n",
       "2007-07-21   97.56     86.98"
      ]
     },
     "execution_count": 13,
     "metadata": {},
     "output_type": "execute_result"
    }
   ],
   "source": [
    "sdtemps = Series([76.23, 67.56, 87.23, 67.65, 91.54, 86.98], index=dates)\n",
    "temps = DataFrame({'Austin': atemps, 'Sandiago': sdtemps})\n",
    "temps"
   ]
  },
  {
   "cell_type": "code",
   "execution_count": 14,
   "metadata": {
    "collapsed": false
   },
   "outputs": [
    {
     "data": {
      "text/plain": [
       "2007-07-16    100.23\n",
       "2007-07-17     98.23\n",
       "2007-07-18     78.98\n",
       "2007-07-19    103.21\n",
       "2007-07-20     87.23\n",
       "2007-07-21     97.56\n",
       "Freq: D, Name: Austin, dtype: float64"
      ]
     },
     "execution_count": 14,
     "metadata": {},
     "output_type": "execute_result"
    }
   ],
   "source": [
    "# refer a column\n",
    "temps['Austin']"
   ]
  },
  {
   "cell_type": "code",
   "execution_count": 15,
   "metadata": {
    "collapsed": false
   },
   "outputs": [
    {
     "data": {
      "text/plain": [
       "2007-07-16    76.23\n",
       "2007-07-17    67.56\n",
       "2007-07-18    87.23\n",
       "2007-07-19    67.65\n",
       "2007-07-20    91.54\n",
       "2007-07-21    86.98\n",
       "Freq: D, Name: Sandiago, dtype: float64"
      ]
     },
     "execution_count": 15,
     "metadata": {},
     "output_type": "execute_result"
    }
   ],
   "source": [
    "# columns can be referred as attribute\n",
    "temps.Sandiago"
   ]
  },
  {
   "cell_type": "code",
   "execution_count": 16,
   "metadata": {
    "collapsed": false
   },
   "outputs": [
    {
     "data": {
      "text/plain": [
       "2007-07-16    24.00\n",
       "2007-07-17    30.67\n",
       "2007-07-18    -8.25\n",
       "2007-07-19    35.56\n",
       "2007-07-20    -4.31\n",
       "2007-07-21    10.58\n",
       "Freq: D, dtype: float64"
      ]
     },
     "execution_count": 16,
     "metadata": {},
     "output_type": "execute_result"
    }
   ],
   "source": [
    "# columns can be subtracted:\n",
    "temps.Austin - temps.Sandiago"
   ]
  },
  {
   "cell_type": "code",
   "execution_count": 18,
   "metadata": {
    "collapsed": false
   },
   "outputs": [
    {
     "data": {
      "text/plain": [
       "Austin      78.98\n",
       "Sandiago    87.23\n",
       "Name: 2007-07-18 00:00:00, dtype: float64"
      ]
     },
     "execution_count": 18,
     "metadata": {},
     "output_type": "execute_result"
    }
   ],
   "source": [
    "# select a row\n",
    "temps.ix[2]"
   ]
  },
  {
   "cell_type": "code",
   "execution_count": 21,
   "metadata": {
    "collapsed": false
   },
   "outputs": [
    {
     "data": {
      "text/plain": [
       "2007-07-18     78.98\n",
       "2007-07-19    103.21\n",
       "Freq: D, Name: Austin, dtype: float64"
      ]
     },
     "execution_count": 21,
     "metadata": {},
     "output_type": "execute_result"
    }
   ],
   "source": [
    "# select a row and a column\n",
    "temps.ix[2:4].Austin"
   ]
  },
  {
   "cell_type": "code",
   "execution_count": 23,
   "metadata": {
    "collapsed": false
   },
   "outputs": [
    {
     "data": {
      "text/plain": [
       "2007-07-18     78.98\n",
       "2007-07-19    103.21\n",
       "Freq: D, Name: Austin, dtype: float64"
      ]
     },
     "execution_count": 23,
     "metadata": {},
     "output_type": "execute_result"
    }
   ],
   "source": [
    "# select a row and a column\n",
    "temps.ix[2:4, 'Austin']"
   ]
  },
  {
   "cell_type": "code",
   "execution_count": 28,
   "metadata": {
    "collapsed": false
   },
   "outputs": [
    {
     "data": {
      "text/plain": [
       "Austin      94.240000\n",
       "Sandiago    79.531667\n",
       "dtype: float64"
      ]
     },
     "execution_count": 28,
     "metadata": {},
     "output_type": "execute_result"
    }
   ],
   "source": [
    "# column means and medians\n",
    "temps.mean()"
   ]
  },
  {
   "cell_type": "code",
   "execution_count": 27,
   "metadata": {
    "collapsed": false
   },
   "outputs": [
    {
     "data": {
      "text/plain": [
       "Austin      97.895\n",
       "Sandiago    81.605\n",
       "dtype: float64"
      ]
     },
     "execution_count": 27,
     "metadata": {},
     "output_type": "execute_result"
    }
   ],
   "source": [
    "temps.median()"
   ]
  },
  {
   "cell_type": "code",
   "execution_count": 29,
   "metadata": {
    "collapsed": false
   },
   "outputs": [
    {
     "data": {
      "text/html": [
       "<div>\n",
       "<table border=\"1\" class=\"dataframe\">\n",
       "  <thead>\n",
       "    <tr style=\"text-align: right;\">\n",
       "      <th></th>\n",
       "      <th>Austin</th>\n",
       "      <th>Sandiago</th>\n",
       "    </tr>\n",
       "  </thead>\n",
       "  <tbody>\n",
       "    <tr>\n",
       "      <th>2007-07-16</th>\n",
       "      <td>5.99</td>\n",
       "      <td>-3.301667</td>\n",
       "    </tr>\n",
       "    <tr>\n",
       "      <th>2007-07-17</th>\n",
       "      <td>3.99</td>\n",
       "      <td>-11.971667</td>\n",
       "    </tr>\n",
       "    <tr>\n",
       "      <th>2007-07-18</th>\n",
       "      <td>-15.26</td>\n",
       "      <td>7.698333</td>\n",
       "    </tr>\n",
       "    <tr>\n",
       "      <th>2007-07-19</th>\n",
       "      <td>8.97</td>\n",
       "      <td>-11.881667</td>\n",
       "    </tr>\n",
       "    <tr>\n",
       "      <th>2007-07-20</th>\n",
       "      <td>-7.01</td>\n",
       "      <td>12.008333</td>\n",
       "    </tr>\n",
       "    <tr>\n",
       "      <th>2007-07-21</th>\n",
       "      <td>3.32</td>\n",
       "      <td>7.448333</td>\n",
       "    </tr>\n",
       "  </tbody>\n",
       "</table>\n",
       "</div>"
      ],
      "text/plain": [
       "            Austin   Sandiago\n",
       "2007-07-16    5.99  -3.301667\n",
       "2007-07-17    3.99 -11.971667\n",
       "2007-07-18  -15.26   7.698333\n",
       "2007-07-19    8.97 -11.881667\n",
       "2007-07-20   -7.01  12.008333\n",
       "2007-07-21    3.32   7.448333"
      ]
     },
     "execution_count": 29,
     "metadata": {},
     "output_type": "execute_result"
    }
   ],
   "source": [
    "temps - temps.mean()"
   ]
  },
  {
   "cell_type": "code",
   "execution_count": 30,
   "metadata": {
    "collapsed": false
   },
   "outputs": [
    {
     "data": {
      "text/html": [
       "<div>\n",
       "<table border=\"1\" class=\"dataframe\">\n",
       "  <thead>\n",
       "    <tr style=\"text-align: right;\">\n",
       "      <th></th>\n",
       "      <th>Austin</th>\n",
       "      <th>Sandiago</th>\n",
       "    </tr>\n",
       "  </thead>\n",
       "  <tbody>\n",
       "    <tr>\n",
       "      <th>2007-07-16</th>\n",
       "      <td>100.23</td>\n",
       "      <td>76.23</td>\n",
       "    </tr>\n",
       "    <tr>\n",
       "      <th>2007-07-19</th>\n",
       "      <td>103.21</td>\n",
       "      <td>67.65</td>\n",
       "    </tr>\n",
       "  </tbody>\n",
       "</table>\n",
       "</div>"
      ],
      "text/plain": [
       "            Austin  Sandiago\n",
       "2007-07-16  100.23     76.23\n",
       "2007-07-19  103.21     67.65"
      ]
     },
     "execution_count": 30,
     "metadata": {},
     "output_type": "execute_result"
    }
   ],
   "source": [
    "# select subsets\n",
    "temps[temps.Austin > 100]"
   ]
  },
  {
   "cell_type": "code",
   "execution_count": 33,
   "metadata": {
    "collapsed": false
   },
   "outputs": [
    {
     "data": {
      "text/html": [
       "<div>\n",
       "<table border=\"1\" class=\"dataframe\">\n",
       "  <thead>\n",
       "    <tr style=\"text-align: right;\">\n",
       "      <th></th>\n",
       "      <th>date</th>\n",
       "      <th>0</th>\n",
       "      <th>1</th>\n",
       "      <th>2</th>\n",
       "      <th>3</th>\n",
       "    </tr>\n",
       "  </thead>\n",
       "  <tbody>\n",
       "    <tr>\n",
       "      <th>0</th>\n",
       "      <td>2000-01-01 00:00:00</td>\n",
       "      <td>1.103763</td>\n",
       "      <td>-1.909979</td>\n",
       "      <td>-0.808956</td>\n",
       "      <td>-2.392629</td>\n",
       "    </tr>\n",
       "    <tr>\n",
       "      <th>1</th>\n",
       "      <td>2000-01-02 00:00:00</td>\n",
       "      <td>1.188917</td>\n",
       "      <td>0.581120</td>\n",
       "      <td>0.861597</td>\n",
       "      <td>-0.213885</td>\n",
       "    </tr>\n",
       "    <tr>\n",
       "      <th>2</th>\n",
       "      <td>2000-01-03 00:00:00</td>\n",
       "      <td>-0.964200</td>\n",
       "      <td>0.779764</td>\n",
       "      <td>1.829062</td>\n",
       "      <td>0.322422</td>\n",
       "    </tr>\n",
       "    <tr>\n",
       "      <th>3</th>\n",
       "      <td>2000-01-04 00:00:00</td>\n",
       "      <td>0.782130</td>\n",
       "      <td>-1.720670</td>\n",
       "      <td>-1.108242</td>\n",
       "      <td>1.233489</td>\n",
       "    </tr>\n",
       "    <tr>\n",
       "      <th>4</th>\n",
       "      <td>2000-01-05 00:00:00</td>\n",
       "      <td>-1.867017</td>\n",
       "      <td>-0.528368</td>\n",
       "      <td>-2.488309</td>\n",
       "      <td>1.480342</td>\n",
       "    </tr>\n",
       "    <tr>\n",
       "      <th>5</th>\n",
       "      <td>2000-01-06 00:00:00</td>\n",
       "      <td>2.569280</td>\n",
       "      <td>-0.471901</td>\n",
       "      <td>-0.835033</td>\n",
       "      <td>-0.532133</td>\n",
       "    </tr>\n",
       "    <tr>\n",
       "      <th>6</th>\n",
       "      <td>2000-01-07 00:00:00</td>\n",
       "      <td>-0.399323</td>\n",
       "      <td>-0.676427</td>\n",
       "      <td>-0.011256</td>\n",
       "      <td>0.223252</td>\n",
       "    </tr>\n",
       "    <tr>\n",
       "      <th>7</th>\n",
       "      <td>2000-01-08 00:00:00</td>\n",
       "      <td>1.642993</td>\n",
       "      <td>1.013420</td>\n",
       "      <td>1.435667</td>\n",
       "      <td>-0.635862</td>\n",
       "    </tr>\n",
       "    <tr>\n",
       "      <th>8</th>\n",
       "      <td>2000-01-09 00:00:00</td>\n",
       "      <td>1.147308</td>\n",
       "      <td>2.138000</td>\n",
       "      <td>0.554171</td>\n",
       "      <td>-0.255538</td>\n",
       "    </tr>\n",
       "    <tr>\n",
       "      <th>9</th>\n",
       "      <td>2000-01-10 00:00:00</td>\n",
       "      <td>0.933766</td>\n",
       "      <td>1.387155</td>\n",
       "      <td>-0.560143</td>\n",
       "      <td>-0.787083</td>\n",
       "    </tr>\n",
       "  </tbody>\n",
       "</table>\n",
       "</div>"
      ],
      "text/plain": [
       "                  date         0         1         2         3\n",
       "0  2000-01-01 00:00:00  1.103763 -1.909979 -0.808956 -2.392629\n",
       "1  2000-01-02 00:00:00  1.188917  0.581120  0.861597 -0.213885\n",
       "2  2000-01-03 00:00:00 -0.964200  0.779764  1.829062  0.322422\n",
       "3  2000-01-04 00:00:00  0.782130 -1.720670 -1.108242  1.233489\n",
       "4  2000-01-05 00:00:00 -1.867017 -0.528368 -2.488309  1.480342\n",
       "5  2000-01-06 00:00:00  2.569280 -0.471901 -0.835033 -0.532133\n",
       "6  2000-01-07 00:00:00 -0.399323 -0.676427 -0.011256  0.223252\n",
       "7  2000-01-08 00:00:00  1.642993  1.013420  1.435667 -0.635862\n",
       "8  2000-01-09 00:00:00  1.147308  2.138000  0.554171 -0.255538\n",
       "9  2000-01-10 00:00:00  0.933766  1.387155 -0.560143 -0.787083"
      ]
     },
     "execution_count": 33,
     "metadata": {},
     "output_type": "execute_result"
    }
   ],
   "source": [
    "# read csv\n",
    "pd.read_csv('data/test1.csv')"
   ]
  },
  {
   "cell_type": "code",
   "execution_count": 40,
   "metadata": {
    "collapsed": false
   },
   "outputs": [
    {
     "data": {
      "text/html": [
       "<div>\n",
       "<table border=\"1\" class=\"dataframe\">\n",
       "  <thead>\n",
       "    <tr style=\"text-align: right;\">\n",
       "      <th></th>\n",
       "      <th>date</th>\n",
       "      <th>0</th>\n",
       "      <th>1</th>\n",
       "      <th>2</th>\n",
       "      <th>3</th>\n",
       "    </tr>\n",
       "  </thead>\n",
       "  <tbody>\n",
       "    <tr>\n",
       "      <th>0</th>\n",
       "      <td>2000-01-01</td>\n",
       "      <td>1.103763</td>\n",
       "      <td>-1.909979</td>\n",
       "      <td>-0.808956</td>\n",
       "      <td>-2.392629</td>\n",
       "    </tr>\n",
       "    <tr>\n",
       "      <th>1</th>\n",
       "      <td>2000-01-02</td>\n",
       "      <td>1.188917</td>\n",
       "      <td>0.581120</td>\n",
       "      <td>0.861597</td>\n",
       "      <td>-0.213885</td>\n",
       "    </tr>\n",
       "    <tr>\n",
       "      <th>2</th>\n",
       "      <td>2000-01-03</td>\n",
       "      <td>-0.964200</td>\n",
       "      <td>0.779764</td>\n",
       "      <td>1.829062</td>\n",
       "      <td>0.322422</td>\n",
       "    </tr>\n",
       "    <tr>\n",
       "      <th>3</th>\n",
       "      <td>2000-01-04</td>\n",
       "      <td>0.782130</td>\n",
       "      <td>-1.720670</td>\n",
       "      <td>-1.108242</td>\n",
       "      <td>1.233489</td>\n",
       "    </tr>\n",
       "    <tr>\n",
       "      <th>4</th>\n",
       "      <td>2000-01-05</td>\n",
       "      <td>-1.867017</td>\n",
       "      <td>-0.528368</td>\n",
       "      <td>-2.488309</td>\n",
       "      <td>1.480342</td>\n",
       "    </tr>\n",
       "    <tr>\n",
       "      <th>5</th>\n",
       "      <td>2000-01-06</td>\n",
       "      <td>2.569280</td>\n",
       "      <td>-0.471901</td>\n",
       "      <td>-0.835033</td>\n",
       "      <td>-0.532133</td>\n",
       "    </tr>\n",
       "    <tr>\n",
       "      <th>6</th>\n",
       "      <td>2000-01-07</td>\n",
       "      <td>-0.399323</td>\n",
       "      <td>-0.676427</td>\n",
       "      <td>-0.011256</td>\n",
       "      <td>0.223252</td>\n",
       "    </tr>\n",
       "    <tr>\n",
       "      <th>7</th>\n",
       "      <td>2000-01-08</td>\n",
       "      <td>1.642993</td>\n",
       "      <td>1.013420</td>\n",
       "      <td>1.435667</td>\n",
       "      <td>-0.635862</td>\n",
       "    </tr>\n",
       "    <tr>\n",
       "      <th>8</th>\n",
       "      <td>2000-01-09</td>\n",
       "      <td>1.147308</td>\n",
       "      <td>2.138000</td>\n",
       "      <td>0.554171</td>\n",
       "      <td>-0.255538</td>\n",
       "    </tr>\n",
       "    <tr>\n",
       "      <th>9</th>\n",
       "      <td>2000-01-10</td>\n",
       "      <td>0.933766</td>\n",
       "      <td>1.387155</td>\n",
       "      <td>-0.560143</td>\n",
       "      <td>-0.787083</td>\n",
       "    </tr>\n",
       "  </tbody>\n",
       "</table>\n",
       "</div>"
      ],
      "text/plain": [
       "        date         0         1         2         3\n",
       "0 2000-01-01  1.103763 -1.909979 -0.808956 -2.392629\n",
       "1 2000-01-02  1.188917  0.581120  0.861597 -0.213885\n",
       "2 2000-01-03 -0.964200  0.779764  1.829062  0.322422\n",
       "3 2000-01-04  0.782130 -1.720670 -1.108242  1.233489\n",
       "4 2000-01-05 -1.867017 -0.528368 -2.488309  1.480342\n",
       "5 2000-01-06  2.569280 -0.471901 -0.835033 -0.532133\n",
       "6 2000-01-07 -0.399323 -0.676427 -0.011256  0.223252\n",
       "7 2000-01-08  1.642993  1.013420  1.435667 -0.635862\n",
       "8 2000-01-09  1.147308  2.138000  0.554171 -0.255538\n",
       "9 2000-01-10  0.933766  1.387155 -0.560143 -0.787083"
      ]
     },
     "execution_count": 40,
     "metadata": {},
     "output_type": "execute_result"
    }
   ],
   "source": [
    "df2 = pd.read_csv('data/test1.csv', parse_dates=['date'])\n",
    "df2"
   ]
  },
  {
   "cell_type": "code",
   "execution_count": 41,
   "metadata": {
    "collapsed": false
   },
   "outputs": [
    {
     "data": {
      "text/plain": [
       "Int64Index([0, 1, 2, 3, 4, 5, 6, 7, 8, 9], dtype='int64')"
      ]
     },
     "execution_count": 41,
     "metadata": {},
     "output_type": "execute_result"
    }
   ],
   "source": [
    "df2.index"
   ]
  },
  {
   "cell_type": "code",
   "execution_count": 36,
   "metadata": {
    "collapsed": false
   },
   "outputs": [
    {
     "data": {
      "text/plain": [
       "Timestamp('2000-01-02 00:00:00')"
      ]
     },
     "execution_count": 36,
     "metadata": {},
     "output_type": "execute_result"
    }
   ],
   "source": [
    "df2.date[1]"
   ]
  },
  {
   "cell_type": "code",
   "execution_count": 42,
   "metadata": {
    "collapsed": false
   },
   "outputs": [
    {
     "data": {
      "text/html": [
       "<div>\n",
       "<table border=\"1\" class=\"dataframe\">\n",
       "  <thead>\n",
       "    <tr style=\"text-align: right;\">\n",
       "      <th></th>\n",
       "      <th>0</th>\n",
       "      <th>1</th>\n",
       "      <th>2</th>\n",
       "      <th>3</th>\n",
       "    </tr>\n",
       "    <tr>\n",
       "      <th>date</th>\n",
       "      <th></th>\n",
       "      <th></th>\n",
       "      <th></th>\n",
       "      <th></th>\n",
       "    </tr>\n",
       "  </thead>\n",
       "  <tbody>\n",
       "    <tr>\n",
       "      <th>2000-01-01</th>\n",
       "      <td>1.103763</td>\n",
       "      <td>-1.909979</td>\n",
       "      <td>-0.808956</td>\n",
       "      <td>-2.392629</td>\n",
       "    </tr>\n",
       "    <tr>\n",
       "      <th>2000-01-02</th>\n",
       "      <td>1.188917</td>\n",
       "      <td>0.581120</td>\n",
       "      <td>0.861597</td>\n",
       "      <td>-0.213885</td>\n",
       "    </tr>\n",
       "    <tr>\n",
       "      <th>2000-01-03</th>\n",
       "      <td>-0.964200</td>\n",
       "      <td>0.779764</td>\n",
       "      <td>1.829062</td>\n",
       "      <td>0.322422</td>\n",
       "    </tr>\n",
       "    <tr>\n",
       "      <th>2000-01-04</th>\n",
       "      <td>0.782130</td>\n",
       "      <td>-1.720670</td>\n",
       "      <td>-1.108242</td>\n",
       "      <td>1.233489</td>\n",
       "    </tr>\n",
       "    <tr>\n",
       "      <th>2000-01-05</th>\n",
       "      <td>-1.867017</td>\n",
       "      <td>-0.528368</td>\n",
       "      <td>-2.488309</td>\n",
       "      <td>1.480342</td>\n",
       "    </tr>\n",
       "    <tr>\n",
       "      <th>2000-01-06</th>\n",
       "      <td>2.569280</td>\n",
       "      <td>-0.471901</td>\n",
       "      <td>-0.835033</td>\n",
       "      <td>-0.532133</td>\n",
       "    </tr>\n",
       "    <tr>\n",
       "      <th>2000-01-07</th>\n",
       "      <td>-0.399323</td>\n",
       "      <td>-0.676427</td>\n",
       "      <td>-0.011256</td>\n",
       "      <td>0.223252</td>\n",
       "    </tr>\n",
       "    <tr>\n",
       "      <th>2000-01-08</th>\n",
       "      <td>1.642993</td>\n",
       "      <td>1.013420</td>\n",
       "      <td>1.435667</td>\n",
       "      <td>-0.635862</td>\n",
       "    </tr>\n",
       "    <tr>\n",
       "      <th>2000-01-09</th>\n",
       "      <td>1.147308</td>\n",
       "      <td>2.138000</td>\n",
       "      <td>0.554171</td>\n",
       "      <td>-0.255538</td>\n",
       "    </tr>\n",
       "    <tr>\n",
       "      <th>2000-01-10</th>\n",
       "      <td>0.933766</td>\n",
       "      <td>1.387155</td>\n",
       "      <td>-0.560143</td>\n",
       "      <td>-0.787083</td>\n",
       "    </tr>\n",
       "  </tbody>\n",
       "</table>\n",
       "</div>"
      ],
      "text/plain": [
       "                   0         1         2         3\n",
       "date                                              \n",
       "2000-01-01  1.103763 -1.909979 -0.808956 -2.392629\n",
       "2000-01-02  1.188917  0.581120  0.861597 -0.213885\n",
       "2000-01-03 -0.964200  0.779764  1.829062  0.322422\n",
       "2000-01-04  0.782130 -1.720670 -1.108242  1.233489\n",
       "2000-01-05 -1.867017 -0.528368 -2.488309  1.480342\n",
       "2000-01-06  2.569280 -0.471901 -0.835033 -0.532133\n",
       "2000-01-07 -0.399323 -0.676427 -0.011256  0.223252\n",
       "2000-01-08  1.642993  1.013420  1.435667 -0.635862\n",
       "2000-01-09  1.147308  2.138000  0.554171 -0.255538\n",
       "2000-01-10  0.933766  1.387155 -0.560143 -0.787083"
      ]
     },
     "execution_count": 42,
     "metadata": {},
     "output_type": "execute_result"
    }
   ],
   "source": [
    "# specify date as index column to make it a time series\n",
    "df2 = pd.read_csv('data/test1.csv', parse_dates=['date'], index_col='date')\n",
    "df2"
   ]
  },
  {
   "cell_type": "code",
   "execution_count": 43,
   "metadata": {
    "collapsed": false
   },
   "outputs": [
    {
     "data": {
      "text/plain": [
       "DatetimeIndex(['2000-01-01', '2000-01-02', '2000-01-03', '2000-01-04',\n",
       "               '2000-01-05', '2000-01-06', '2000-01-07', '2000-01-08',\n",
       "               '2000-01-09', '2000-01-10'],\n",
       "              dtype='datetime64[ns]', name='date', freq=None)"
      ]
     },
     "execution_count": 43,
     "metadata": {},
     "output_type": "execute_result"
    }
   ],
   "source": [
    "df2.index"
   ]
  },
  {
   "cell_type": "code",
   "execution_count": 44,
   "metadata": {
    "collapsed": false
   },
   "outputs": [
    {
     "data": {
      "text/html": [
       "<div>\n",
       "<table border=\"1\" class=\"dataframe\">\n",
       "  <thead>\n",
       "    <tr style=\"text-align: right;\">\n",
       "      <th></th>\n",
       "      <th>date</th>\n",
       "      <th>0</th>\n",
       "      <th>1</th>\n",
       "      <th>2</th>\n",
       "      <th>3</th>\n",
       "    </tr>\n",
       "    <tr>\n",
       "      <th>date</th>\n",
       "      <th></th>\n",
       "      <th></th>\n",
       "      <th></th>\n",
       "      <th></th>\n",
       "      <th></th>\n",
       "    </tr>\n",
       "  </thead>\n",
       "  <tbody>\n",
       "    <tr>\n",
       "      <th>2000-01-01</th>\n",
       "      <td>2000-01-01</td>\n",
       "      <td>1.103763</td>\n",
       "      <td>-1.909979</td>\n",
       "      <td>-0.808956</td>\n",
       "      <td>-2.392629</td>\n",
       "    </tr>\n",
       "    <tr>\n",
       "      <th>2000-01-02</th>\n",
       "      <td>2000-01-02</td>\n",
       "      <td>1.188917</td>\n",
       "      <td>0.581120</td>\n",
       "      <td>0.861597</td>\n",
       "      <td>-0.213885</td>\n",
       "    </tr>\n",
       "    <tr>\n",
       "      <th>2000-01-03</th>\n",
       "      <td>2000-01-03</td>\n",
       "      <td>-0.964200</td>\n",
       "      <td>0.779764</td>\n",
       "      <td>1.829062</td>\n",
       "      <td>0.322422</td>\n",
       "    </tr>\n",
       "    <tr>\n",
       "      <th>2000-01-04</th>\n",
       "      <td>2000-01-04</td>\n",
       "      <td>0.782130</td>\n",
       "      <td>-1.720670</td>\n",
       "      <td>-1.108242</td>\n",
       "      <td>1.233489</td>\n",
       "    </tr>\n",
       "    <tr>\n",
       "      <th>2000-01-05</th>\n",
       "      <td>2000-01-05</td>\n",
       "      <td>-1.867017</td>\n",
       "      <td>-0.528368</td>\n",
       "      <td>-2.488309</td>\n",
       "      <td>1.480342</td>\n",
       "    </tr>\n",
       "    <tr>\n",
       "      <th>2000-01-06</th>\n",
       "      <td>2000-01-06</td>\n",
       "      <td>2.569280</td>\n",
       "      <td>-0.471901</td>\n",
       "      <td>-0.835033</td>\n",
       "      <td>-0.532133</td>\n",
       "    </tr>\n",
       "    <tr>\n",
       "      <th>2000-01-07</th>\n",
       "      <td>2000-01-07</td>\n",
       "      <td>-0.399323</td>\n",
       "      <td>-0.676427</td>\n",
       "      <td>-0.011256</td>\n",
       "      <td>0.223252</td>\n",
       "    </tr>\n",
       "    <tr>\n",
       "      <th>2000-01-08</th>\n",
       "      <td>2000-01-08</td>\n",
       "      <td>1.642993</td>\n",
       "      <td>1.013420</td>\n",
       "      <td>1.435667</td>\n",
       "      <td>-0.635862</td>\n",
       "    </tr>\n",
       "    <tr>\n",
       "      <th>2000-01-09</th>\n",
       "      <td>2000-01-09</td>\n",
       "      <td>1.147308</td>\n",
       "      <td>2.138000</td>\n",
       "      <td>0.554171</td>\n",
       "      <td>-0.255538</td>\n",
       "    </tr>\n",
       "    <tr>\n",
       "      <th>2000-01-10</th>\n",
       "      <td>2000-01-10</td>\n",
       "      <td>0.933766</td>\n",
       "      <td>1.387155</td>\n",
       "      <td>-0.560143</td>\n",
       "      <td>-0.787083</td>\n",
       "    </tr>\n",
       "  </tbody>\n",
       "</table>\n",
       "</div>"
      ],
      "text/plain": [
       "                 date         0         1         2         3\n",
       "date                                                         \n",
       "2000-01-01 2000-01-01  1.103763 -1.909979 -0.808956 -2.392629\n",
       "2000-01-02 2000-01-02  1.188917  0.581120  0.861597 -0.213885\n",
       "2000-01-03 2000-01-03 -0.964200  0.779764  1.829062  0.322422\n",
       "2000-01-04 2000-01-04  0.782130 -1.720670 -1.108242  1.233489\n",
       "2000-01-05 2000-01-05 -1.867017 -0.528368 -2.488309  1.480342\n",
       "2000-01-06 2000-01-06  2.569280 -0.471901 -0.835033 -0.532133\n",
       "2000-01-07 2000-01-07 -0.399323 -0.676427 -0.011256  0.223252\n",
       "2000-01-08 2000-01-08  1.642993  1.013420  1.435667 -0.635862\n",
       "2000-01-09 2000-01-09  1.147308  2.138000  0.554171 -0.255538\n",
       "2000-01-10 2000-01-10  0.933766  1.387155 -0.560143 -0.787083"
      ]
     },
     "execution_count": 44,
     "metadata": {},
     "output_type": "execute_result"
    }
   ],
   "source": [
    "# specify date as index column to make it a time series\n",
    "df2 = pd.read_csv('data/test1.csv', parse_dates=['date'])\n",
    "df3 = df2.set_index('date', drop=False)\n",
    "df3"
   ]
  },
  {
   "cell_type": "code",
   "execution_count": 45,
   "metadata": {
    "collapsed": false
   },
   "outputs": [
    {
     "data": {
      "text/html": [
       "<div>\n",
       "<table border=\"1\" class=\"dataframe\">\n",
       "  <thead>\n",
       "    <tr style=\"text-align: right;\">\n",
       "      <th></th>\n",
       "      <th>date</th>\n",
       "      <th>0</th>\n",
       "      <th>1</th>\n",
       "      <th>2</th>\n",
       "      <th>3</th>\n",
       "      <th>time</th>\n",
       "    </tr>\n",
       "  </thead>\n",
       "  <tbody>\n",
       "    <tr>\n",
       "      <th>0</th>\n",
       "      <td>2000-01-01</td>\n",
       "      <td>1.103763</td>\n",
       "      <td>-1.909979</td>\n",
       "      <td>-0.808956</td>\n",
       "      <td>-2.392629</td>\n",
       "      <td>00:00:00</td>\n",
       "    </tr>\n",
       "    <tr>\n",
       "      <th>1</th>\n",
       "      <td>2000-01-02</td>\n",
       "      <td>1.188917</td>\n",
       "      <td>0.581120</td>\n",
       "      <td>0.861597</td>\n",
       "      <td>-0.213885</td>\n",
       "      <td>00:00:00</td>\n",
       "    </tr>\n",
       "    <tr>\n",
       "      <th>2</th>\n",
       "      <td>2000-01-03</td>\n",
       "      <td>-0.964200</td>\n",
       "      <td>0.779764</td>\n",
       "      <td>1.829062</td>\n",
       "      <td>0.322422</td>\n",
       "      <td>00:00:00</td>\n",
       "    </tr>\n",
       "    <tr>\n",
       "      <th>3</th>\n",
       "      <td>2000-01-04</td>\n",
       "      <td>0.782130</td>\n",
       "      <td>-1.720670</td>\n",
       "      <td>-1.108242</td>\n",
       "      <td>1.233489</td>\n",
       "      <td>00:00:00</td>\n",
       "    </tr>\n",
       "    <tr>\n",
       "      <th>4</th>\n",
       "      <td>2000-01-05</td>\n",
       "      <td>-1.867017</td>\n",
       "      <td>-0.528368</td>\n",
       "      <td>-2.488309</td>\n",
       "      <td>1.480342</td>\n",
       "      <td>00:00:00</td>\n",
       "    </tr>\n",
       "    <tr>\n",
       "      <th>5</th>\n",
       "      <td>2000-01-06</td>\n",
       "      <td>2.569280</td>\n",
       "      <td>-0.471901</td>\n",
       "      <td>-0.835033</td>\n",
       "      <td>-0.532133</td>\n",
       "      <td>00:00:00</td>\n",
       "    </tr>\n",
       "    <tr>\n",
       "      <th>6</th>\n",
       "      <td>2000-01-07</td>\n",
       "      <td>-0.399323</td>\n",
       "      <td>-0.676427</td>\n",
       "      <td>-0.011256</td>\n",
       "      <td>0.223252</td>\n",
       "      <td>00:00:00</td>\n",
       "    </tr>\n",
       "    <tr>\n",
       "      <th>7</th>\n",
       "      <td>2000-01-08</td>\n",
       "      <td>1.642993</td>\n",
       "      <td>1.013420</td>\n",
       "      <td>1.435667</td>\n",
       "      <td>-0.635862</td>\n",
       "      <td>00:00:00</td>\n",
       "    </tr>\n",
       "    <tr>\n",
       "      <th>8</th>\n",
       "      <td>2000-01-09</td>\n",
       "      <td>1.147308</td>\n",
       "      <td>2.138000</td>\n",
       "      <td>0.554171</td>\n",
       "      <td>-0.255538</td>\n",
       "      <td>00:00:00</td>\n",
       "    </tr>\n",
       "    <tr>\n",
       "      <th>9</th>\n",
       "      <td>2000-01-10</td>\n",
       "      <td>0.933766</td>\n",
       "      <td>1.387155</td>\n",
       "      <td>-0.560143</td>\n",
       "      <td>-0.787083</td>\n",
       "      <td>00:00:00</td>\n",
       "    </tr>\n",
       "  </tbody>\n",
       "</table>\n",
       "</div>"
      ],
      "text/plain": [
       "         date         0         1         2         3      time\n",
       "0  2000-01-01  1.103763 -1.909979 -0.808956 -2.392629  00:00:00\n",
       "1  2000-01-02  1.188917  0.581120  0.861597 -0.213885  00:00:00\n",
       "2  2000-01-03 -0.964200  0.779764  1.829062  0.322422  00:00:00\n",
       "3  2000-01-04  0.782130 -1.720670 -1.108242  1.233489  00:00:00\n",
       "4  2000-01-05 -1.867017 -0.528368 -2.488309  1.480342  00:00:00\n",
       "5  2000-01-06  2.569280 -0.471901 -0.835033 -0.532133  00:00:00\n",
       "6  2000-01-07 -0.399323 -0.676427 -0.011256  0.223252  00:00:00\n",
       "7  2000-01-08  1.642993  1.013420  1.435667 -0.635862  00:00:00\n",
       "8  2000-01-09  1.147308  2.138000  0.554171 -0.255538  00:00:00\n",
       "9  2000-01-10  0.933766  1.387155 -0.560143 -0.787083  00:00:00"
      ]
     },
     "execution_count": 45,
     "metadata": {},
     "output_type": "execute_result"
    }
   ],
   "source": [
    "pd.read_csv('data/test2.csv')"
   ]
  },
  {
   "cell_type": "code",
   "execution_count": 47,
   "metadata": {
    "collapsed": false
   },
   "outputs": [
    {
     "data": {
      "text/html": [
       "<div>\n",
       "<table border=\"1\" class=\"dataframe\">\n",
       "  <thead>\n",
       "    <tr style=\"text-align: right;\">\n",
       "      <th></th>\n",
       "      <th>date_time</th>\n",
       "      <th>0</th>\n",
       "      <th>1</th>\n",
       "      <th>2</th>\n",
       "      <th>3</th>\n",
       "    </tr>\n",
       "  </thead>\n",
       "  <tbody>\n",
       "    <tr>\n",
       "      <th>0</th>\n",
       "      <td>2000-01-01</td>\n",
       "      <td>1.103763</td>\n",
       "      <td>-1.909979</td>\n",
       "      <td>-0.808956</td>\n",
       "      <td>-2.392629</td>\n",
       "    </tr>\n",
       "    <tr>\n",
       "      <th>1</th>\n",
       "      <td>2000-01-02</td>\n",
       "      <td>1.188917</td>\n",
       "      <td>0.581120</td>\n",
       "      <td>0.861597</td>\n",
       "      <td>-0.213885</td>\n",
       "    </tr>\n",
       "    <tr>\n",
       "      <th>2</th>\n",
       "      <td>2000-01-03</td>\n",
       "      <td>-0.964200</td>\n",
       "      <td>0.779764</td>\n",
       "      <td>1.829062</td>\n",
       "      <td>0.322422</td>\n",
       "    </tr>\n",
       "    <tr>\n",
       "      <th>3</th>\n",
       "      <td>2000-01-04</td>\n",
       "      <td>0.782130</td>\n",
       "      <td>-1.720670</td>\n",
       "      <td>-1.108242</td>\n",
       "      <td>1.233489</td>\n",
       "    </tr>\n",
       "    <tr>\n",
       "      <th>4</th>\n",
       "      <td>2000-01-05</td>\n",
       "      <td>-1.867017</td>\n",
       "      <td>-0.528368</td>\n",
       "      <td>-2.488309</td>\n",
       "      <td>1.480342</td>\n",
       "    </tr>\n",
       "    <tr>\n",
       "      <th>5</th>\n",
       "      <td>2000-01-06</td>\n",
       "      <td>2.569280</td>\n",
       "      <td>-0.471901</td>\n",
       "      <td>-0.835033</td>\n",
       "      <td>-0.532133</td>\n",
       "    </tr>\n",
       "    <tr>\n",
       "      <th>6</th>\n",
       "      <td>2000-01-07</td>\n",
       "      <td>-0.399323</td>\n",
       "      <td>-0.676427</td>\n",
       "      <td>-0.011256</td>\n",
       "      <td>0.223252</td>\n",
       "    </tr>\n",
       "    <tr>\n",
       "      <th>7</th>\n",
       "      <td>2000-01-08</td>\n",
       "      <td>1.642993</td>\n",
       "      <td>1.013420</td>\n",
       "      <td>1.435667</td>\n",
       "      <td>-0.635862</td>\n",
       "    </tr>\n",
       "    <tr>\n",
       "      <th>8</th>\n",
       "      <td>2000-01-09</td>\n",
       "      <td>1.147308</td>\n",
       "      <td>2.138000</td>\n",
       "      <td>0.554171</td>\n",
       "      <td>-0.255538</td>\n",
       "    </tr>\n",
       "    <tr>\n",
       "      <th>9</th>\n",
       "      <td>2000-01-10</td>\n",
       "      <td>0.933766</td>\n",
       "      <td>1.387155</td>\n",
       "      <td>-0.560143</td>\n",
       "      <td>-0.787083</td>\n",
       "    </tr>\n",
       "  </tbody>\n",
       "</table>\n",
       "</div>"
      ],
      "text/plain": [
       "   date_time         0         1         2         3\n",
       "0 2000-01-01  1.103763 -1.909979 -0.808956 -2.392629\n",
       "1 2000-01-02  1.188917  0.581120  0.861597 -0.213885\n",
       "2 2000-01-03 -0.964200  0.779764  1.829062  0.322422\n",
       "3 2000-01-04  0.782130 -1.720670 -1.108242  1.233489\n",
       "4 2000-01-05 -1.867017 -0.528368 -2.488309  1.480342\n",
       "5 2000-01-06  2.569280 -0.471901 -0.835033 -0.532133\n",
       "6 2000-01-07 -0.399323 -0.676427 -0.011256  0.223252\n",
       "7 2000-01-08  1.642993  1.013420  1.435667 -0.635862\n",
       "8 2000-01-09  1.147308  2.138000  0.554171 -0.255538\n",
       "9 2000-01-10  0.933766  1.387155 -0.560143 -0.787083"
      ]
     },
     "execution_count": 47,
     "metadata": {},
     "output_type": "execute_result"
    }
   ],
   "source": [
    "pd.read_csv('data/test2.csv', parse_dates=[['date', 'time']])"
   ]
  },
  {
   "cell_type": "code",
   "execution_count": 48,
   "metadata": {
    "collapsed": false
   },
   "outputs": [
    {
     "data": {
      "text/html": [
       "<div>\n",
       "<table border=\"1\" class=\"dataframe\">\n",
       "  <thead>\n",
       "    <tr style=\"text-align: right;\">\n",
       "      <th></th>\n",
       "      <th>0</th>\n",
       "      <th>1</th>\n",
       "      <th>2</th>\n",
       "      <th>3</th>\n",
       "    </tr>\n",
       "    <tr>\n",
       "      <th>date_time</th>\n",
       "      <th></th>\n",
       "      <th></th>\n",
       "      <th></th>\n",
       "      <th></th>\n",
       "    </tr>\n",
       "  </thead>\n",
       "  <tbody>\n",
       "    <tr>\n",
       "      <th>2000-01-01</th>\n",
       "      <td>1.103763</td>\n",
       "      <td>-1.909979</td>\n",
       "      <td>-0.808956</td>\n",
       "      <td>-2.392629</td>\n",
       "    </tr>\n",
       "    <tr>\n",
       "      <th>2000-01-02</th>\n",
       "      <td>1.188917</td>\n",
       "      <td>0.581120</td>\n",
       "      <td>0.861597</td>\n",
       "      <td>-0.213885</td>\n",
       "    </tr>\n",
       "    <tr>\n",
       "      <th>2000-01-03</th>\n",
       "      <td>-0.964200</td>\n",
       "      <td>0.779764</td>\n",
       "      <td>1.829062</td>\n",
       "      <td>0.322422</td>\n",
       "    </tr>\n",
       "    <tr>\n",
       "      <th>2000-01-04</th>\n",
       "      <td>0.782130</td>\n",
       "      <td>-1.720670</td>\n",
       "      <td>-1.108242</td>\n",
       "      <td>1.233489</td>\n",
       "    </tr>\n",
       "    <tr>\n",
       "      <th>2000-01-05</th>\n",
       "      <td>-1.867017</td>\n",
       "      <td>-0.528368</td>\n",
       "      <td>-2.488309</td>\n",
       "      <td>1.480342</td>\n",
       "    </tr>\n",
       "    <tr>\n",
       "      <th>2000-01-06</th>\n",
       "      <td>2.569280</td>\n",
       "      <td>-0.471901</td>\n",
       "      <td>-0.835033</td>\n",
       "      <td>-0.532133</td>\n",
       "    </tr>\n",
       "    <tr>\n",
       "      <th>2000-01-07</th>\n",
       "      <td>-0.399323</td>\n",
       "      <td>-0.676427</td>\n",
       "      <td>-0.011256</td>\n",
       "      <td>0.223252</td>\n",
       "    </tr>\n",
       "    <tr>\n",
       "      <th>2000-01-08</th>\n",
       "      <td>1.642993</td>\n",
       "      <td>1.013420</td>\n",
       "      <td>1.435667</td>\n",
       "      <td>-0.635862</td>\n",
       "    </tr>\n",
       "    <tr>\n",
       "      <th>2000-01-09</th>\n",
       "      <td>1.147308</td>\n",
       "      <td>2.138000</td>\n",
       "      <td>0.554171</td>\n",
       "      <td>-0.255538</td>\n",
       "    </tr>\n",
       "    <tr>\n",
       "      <th>2000-01-10</th>\n",
       "      <td>0.933766</td>\n",
       "      <td>1.387155</td>\n",
       "      <td>-0.560143</td>\n",
       "      <td>-0.787083</td>\n",
       "    </tr>\n",
       "  </tbody>\n",
       "</table>\n",
       "</div>"
      ],
      "text/plain": [
       "                   0         1         2         3\n",
       "date_time                                         \n",
       "2000-01-01  1.103763 -1.909979 -0.808956 -2.392629\n",
       "2000-01-02  1.188917  0.581120  0.861597 -0.213885\n",
       "2000-01-03 -0.964200  0.779764  1.829062  0.322422\n",
       "2000-01-04  0.782130 -1.720670 -1.108242  1.233489\n",
       "2000-01-05 -1.867017 -0.528368 -2.488309  1.480342\n",
       "2000-01-06  2.569280 -0.471901 -0.835033 -0.532133\n",
       "2000-01-07 -0.399323 -0.676427 -0.011256  0.223252\n",
       "2000-01-08  1.642993  1.013420  1.435667 -0.635862\n",
       "2000-01-09  1.147308  2.138000  0.554171 -0.255538\n",
       "2000-01-10  0.933766  1.387155 -0.560143 -0.787083"
      ]
     },
     "execution_count": 48,
     "metadata": {},
     "output_type": "execute_result"
    }
   ],
   "source": [
    "pd.read_csv('data/test2.csv', parse_dates=[['date', 'time']], index_col='date_time')"
   ]
  },
  {
   "cell_type": "code",
   "execution_count": 51,
   "metadata": {
    "collapsed": false
   },
   "outputs": [],
   "source": [
    "pd.read_csv?"
   ]
  },
  {
   "cell_type": "code",
   "execution_count": 59,
   "metadata": {
    "collapsed": false
   },
   "outputs": [
    {
     "data": {
      "text/plain": [
       "2007-07-16    24.00\n",
       "2007-07-17    30.67\n",
       "2007-07-18    -8.25\n",
       "2007-07-19    35.56\n",
       "2007-07-20    -4.31\n",
       "2007-07-21    10.58\n",
       "Freq: D, dtype: float64"
      ]
     },
     "execution_count": 59,
     "metadata": {},
     "output_type": "execute_result"
    }
   ],
   "source": [
    "# automatic realignment\n",
    "atemps - sdtemps"
   ]
  },
  {
   "cell_type": "code",
   "execution_count": 60,
   "metadata": {
    "collapsed": false
   },
   "outputs": [
    {
     "data": {
      "text/plain": [
       "2007-07-16    24.00\n",
       "2007-07-17    30.67\n",
       "2007-07-18    -8.25\n",
       "2007-07-19      NaN\n",
       "2007-07-20    -4.31\n",
       "2007-07-21    10.58\n",
       "dtype: float64"
      ]
     },
     "execution_count": 60,
     "metadata": {},
     "output_type": "execute_result"
    }
   ],
   "source": [
    "sdtemps1 = sdtemps.drop(sdtemps.index[3])\n",
    "atemps - sdtemps1"
   ]
  },
  {
   "cell_type": "code",
   "execution_count": 65,
   "metadata": {
    "collapsed": false
   },
   "outputs": [
    {
     "data": {
      "text/html": [
       "<div>\n",
       "<table border=\"1\" class=\"dataframe\">\n",
       "  <thead>\n",
       "    <tr style=\"text-align: right;\">\n",
       "      <th></th>\n",
       "      <th>Austin</th>\n",
       "      <th>Sandiago</th>\n",
       "    </tr>\n",
       "  </thead>\n",
       "  <tbody>\n",
       "    <tr>\n",
       "      <th>2007-07-16</th>\n",
       "      <td>0</td>\n",
       "      <td>0</td>\n",
       "    </tr>\n",
       "    <tr>\n",
       "      <th>2007-07-17</th>\n",
       "      <td>0</td>\n",
       "      <td>0</td>\n",
       "    </tr>\n",
       "    <tr>\n",
       "      <th>2007-07-18</th>\n",
       "      <td>0</td>\n",
       "      <td>0</td>\n",
       "    </tr>\n",
       "    <tr>\n",
       "      <th>2007-07-19</th>\n",
       "      <td>0</td>\n",
       "      <td>0</td>\n",
       "    </tr>\n",
       "    <tr>\n",
       "      <th>2007-07-20</th>\n",
       "      <td>NaN</td>\n",
       "      <td>NaN</td>\n",
       "    </tr>\n",
       "    <tr>\n",
       "      <th>2007-07-21</th>\n",
       "      <td>NaN</td>\n",
       "      <td>NaN</td>\n",
       "    </tr>\n",
       "  </tbody>\n",
       "</table>\n",
       "</div>"
      ],
      "text/plain": [
       "            Austin  Sandiago\n",
       "2007-07-16       0         0\n",
       "2007-07-17       0         0\n",
       "2007-07-18       0         0\n",
       "2007-07-19       0         0\n",
       "2007-07-20     NaN       NaN\n",
       "2007-07-21     NaN       NaN"
      ]
     },
     "execution_count": 65,
     "metadata": {},
     "output_type": "execute_result"
    }
   ],
   "source": [
    "# data alignment happens automatically\n",
    "temps - temps[:4]"
   ]
  },
  {
   "cell_type": "code",
   "execution_count": null,
   "metadata": {
    "collapsed": true
   },
   "outputs": [],
   "source": []
  }
 ],
 "metadata": {
  "kernelspec": {
   "display_name": "Python 3",
   "language": "python",
   "name": "python3"
  },
  "language_info": {
   "codemirror_mode": {
    "name": "ipython",
    "version": 3
   },
   "file_extension": ".py",
   "mimetype": "text/x-python",
   "name": "python",
   "nbconvert_exporter": "python",
   "pygments_lexer": "ipython3",
   "version": "3.4.4"
  }
 },
 "nbformat": 4,
 "nbformat_minor": 0
}
