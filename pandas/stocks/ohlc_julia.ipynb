{
 "cells": [
  {
   "cell_type": "code",
   "execution_count": 1,
   "metadata": {
    "collapsed": false
   },
   "outputs": [
    {
     "name": "stderr",
     "output_type": "stream",
     "text": [
      "WARNING: Base.SingleAsyncWork is deprecated, use Base.AsyncCondition instead.\n",
      "  likely near /home/tan/.julia/v0.5/IJulia/src/kernel.jl:6\n",
      "in gc_protect_handle at /home/tan/.julia/v0.5/ZMQ/src/ZMQ.jl\n",
      "WARNING: Base.SingleAsyncWork is deprecated, use Base.AsyncCondition instead.\n",
      "  likely near /home/tan/.julia/v0.5/IJulia/src/kernel.jl:6\n",
      "WARNING: Base.SingleAsyncWork is deprecated, use Base.AsyncCondition instead.\n",
      "  likely near /home/tan/.julia/v0.5/IJulia/src/kernel.jl:6\n",
      "in gc_protect_handle at /home/tan/.julia/v0.5/ZMQ/src/ZMQ.jl\n",
      "WARNING: Base.SingleAsyncWork is deprecated, use Base.AsyncCondition instead.\n",
      "  likely near /home/tan/.julia/v0.5/IJulia/src/kernel.jl:6\n",
      "in gc_protect_handle at /home/tan/.julia/v0.5/ZMQ/src/ZMQ.jl\n",
      "WARNING: Base.SingleAsyncWork is deprecated, use Base.AsyncCondition instead.\n",
      "  likely near /home/tan/.julia/v0.5/IJulia/src/kernel.jl:6\n",
      "in gc_protect_handle at /home/tan/.julia/v0.5/ZMQ/src/ZMQ.jl\n",
      "WARNING: New definition \n",
      "    write(GZip.GZipStream, Array{#T<:Any, N<:Any}) at /home/tan/.julia/v0.5/GZip/src/GZip.jl:456\n",
      "is ambiguous with: \n",
      "    write(Base.IO, Array{UInt8, N<:Any}) at io.jl:154.\n",
      "To fix, define \n",
      "    write(GZip.GZipStream, Array{UInt8, N<:Any})\n",
      "before the new definition.\n",
      "\n",
      "WARNING: deprecated syntax \"call(::Type{Indexes}, ...)\".\n",
      "Use \"(::Type{Indexes})(...)\" instead.\n"
     ]
    }
   ],
   "source": [
    "using DataFrames\n",
    "using JuliaTS\n",
    "using NDSparseData"
   ]
  },
  {
   "cell_type": "code",
   "execution_count": 2,
   "metadata": {
    "collapsed": false
   },
   "outputs": [
    {
     "name": "stdout",
     "output_type": "stream",
     "text": [
      " 40.578732 seconds (183.40 M allocations: 9.002 GB, 26.67% gc time)\n"
     ]
    },
    {
     "name": "stderr",
     "output_type": "stream",
     "text": [
      "WARNING: tty_size is deprecated. use `displaysize(io)` as a replacement\n",
      " [inlined code] from ./error.jl:26\n",
      " in depwarn(::ASCIIString, ::Symbol) at ./deprecated.jl:64\n",
      " in tty_size() at ./deprecated.jl:920\n",
      " in writemime(::Base.AbstractIOBuffer{Array{UInt8,1}}, ::MIME{symbol(\"text/html\")}, ::DataFrames.DataFrame) at /home/tan/.julia/v0.5/DataFrames/src/abstractdataframe/io.jl:177\n",
      " in #sprint#97(::Void, ::Any, ::Int64, ::Any, ::MIME{symbol(\"text/html\")}, ::Vararg{Any}) at ./strings/io.jl:38\n",
      " [inlined code] from ./strings/io.jl:33\n",
      " in display_dict(::DataFrames.DataFrame) at /home/tan/.julia/v0.5/IJulia/src/execute_request.jl:39\n",
      " in execute_request_0x535c5df2(::ZMQ.Socket, ::IJulia.Msg) at /home/tan/.julia/v0.5/IJulia/src/execute_request.jl:213\n",
      " [inlined code] from ./dict.jl:779\n",
      " in eventloop(::ZMQ.Socket) at /home/tan/.julia/v0.5/IJulia/src/IJulia.jl:142\n",
      " in (::"
     ]
    },
    {
     "data": {
      "text/html": [
       "<table class=\"data-frame\"><tr><th></th><th>messagetype</th><th>timestamp</th><th>symbol</th><th>ordertype</th><th>price</th><th>quantity</th></tr><tr><th>1</th><td>N</td><td>2015-11-02 09:15:00.028</td><td>ZIJYHGMAQB</td><td>S</td><td>30</td><td>1000000</td></tr><tr><th>2</th><td>N</td><td>2015-11-02 09:15:00.028</td><td>DLINPKXTEH</td><td>S</td><td>7100</td><td>1</td></tr><tr><th>3</th><td>N</td><td>2015-11-02 09:15:00.028</td><td>GUBMZEKWIJ</td><td>S</td><td>6690</td><td>1500</td></tr><tr><th>4</th><td>N</td><td>2015-11-02 09:15:00.028</td><td>HYNEGMRZKF</td><td>S</td><td>20</td><td>1000000</td></tr><tr><th>5</th><td>N</td><td>2015-11-02 09:15:00.028</td><td>DLINPKXTEH</td><td>B</td><td>4800</td><td>1</td></tr><tr><th>6</th><td>N</td><td>2015-11-02 09:15:00.028</td><td>OZBAVQMLYK</td><td>B</td><td>447005</td><td>3</td></tr></table>"
      ],
      "text/plain": [
       "6x6 DataFrames.DataFrame\n",
       "│ Row │ messagetype │ timestamp                 │ symbol       │ ordertype │\n",
       "┝━━━━━┿━━━━━━━━━━━━━┿━━━━━━━━━━━━━━━━━━━━━━━━━━━┿━━━━━━━━━━━━━━┿━━━━━━━━━━━┥\n",
       "│ 1   │ \"N\"         │ \"2015-11-02 09:15:00.028\" │ \"ZIJYHGMAQB\" │ \"S\"       │\n",
       "│ 2   │ \"N\"         │ \"2015-11-02 09:15:00.028\" │ \"DLINPKXTEH\" │ \"S\"       │\n",
       "│ 3   │ \"N\"         │ \"2015-11-02 09:15:00.028\" │ \"GUBMZEKWIJ\" │ \"S\"       │\n",
       "│ 4   │ \"N\"         │ \"2015-11-02 09:15:00.028\" │ \"HYNEGMRZKF\" │ \"S\"       │\n",
       "│ 5   │ \"N\"         │ \"2015-11-02 09:15:00.028\" │ \"DLINPKXTEH\" │ \"B\"       │\n",
       "│ 6   │ \"N\"         │ \"2015-11-02 09:15:00.028\" │ \"OZBAVQMLYK\" │ \"B\"       │\n",
       "\n",
       "│ Row │ price  │ quantity │\n",
       "┝━━━━━┿━━━━━━━━┿━━━━━━━━━━┥\n",
       "│ 1   │ 30     │ 1000000  │\n",
       "│ 2   │ 7100   │ 1        │\n",
       "│ 3   │ 6690   │ 1500     │\n",
       "│ 4   │ 20     │ 1000000  │\n",
       "│ 5   │ 4800   │ 1        │\n",
       "│ 6   │ 447005 │ 3        │"
      ]
     },
     "execution_count": 2,
     "metadata": {},
     "output_type": "execute_result"
    },
    {
     "name": "stderr",
     "output_type": "stream",
     "text": [
      "IJulia.##24#30)() at ./task.jl:308\n",
      "while loading /home/tan/.julia/v0.5/IJulia/src/kernel.jl, in expression starting on line 31\n",
      "WARNING: Base.SingleAsyncWork is deprecated, use Base.AsyncCondition instead.\n",
      "  likely near /home/tan/.julia/v0.5/IJulia/src/kernel.jl:31\n",
      "in gc_protect_handle at /home/tan/.julia/v0.5/ZMQ/src/ZMQ.jl\n",
      "WARNING: Base.SingleAsyncWork is deprecated, use Base.AsyncCondition instead.\n",
      "  likely near /home/tan/.julia/v0.5/IJulia/src/kernel.jl:31\n",
      "WARNING: Base.SingleAsyncWork is deprecated, use Base.AsyncCondition instead.\n",
      "  likely near /home/tan/.julia/v0.5/IJulia/src/kernel.jl:31\n",
      "in gc_protect_handle at /home/tan/.julia/v0.5/ZMQ/src/ZMQ.jl\n",
      "WARNING: Base.SingleAsyncWork is deprecated, use Base.AsyncCondition instead.\n",
      "  likely near /home/tan/.julia/v0.5/IJulia/src/kernel.jl:31\n",
      "in gc_protect_handle at /home/tan/.julia/v0.5/ZMQ/src/ZMQ.jl\n",
      "WARNING: Base.SingleAsyncWork is deprecated, use Base.AsyncCondition instead.\n",
      "  likely near /home/tan/.julia/v0.5/IJulia/src/kernel.jl:31\n",
      "in gc_protect_handle at /home/tan/.julia/v0.5/ZMQ/src/ZMQ.jl\n"
     ]
    }
   ],
   "source": [
    "@time cash = readtable(\"sample_cash.csv\")\n",
    "head(cash)"
   ]
  },
  {
   "cell_type": "code",
   "execution_count": 3,
   "metadata": {
    "collapsed": false
   },
   "outputs": [
    {
     "name": "stdout",
     "output_type": "stream",
     "text": [
      "241.211823 seconds (627.67 M allocations: 21.746 GB, 37.25% gc time)\n"
     ]
    },
    {
     "data": {
      "text/html": [
       "<table class=\"data-frame\"><tr><th></th><th>timestamp</th><th>symbol</th><th>price</th></tr><tr><th>1</th><td>2015-11-02T09:15:00.028</td><td>ZIJYHGMAQB</td><td>30</td></tr><tr><th>2</th><td>2015-11-02T09:15:00.028</td><td>DLINPKXTEH</td><td>7100</td></tr><tr><th>3</th><td>2015-11-02T09:15:00.028</td><td>GUBMZEKWIJ</td><td>6690</td></tr><tr><th>4</th><td>2015-11-02T09:15:00.028</td><td>HYNEGMRZKF</td><td>20</td></tr><tr><th>5</th><td>2015-11-02T09:15:00.028</td><td>DLINPKXTEH</td><td>4800</td></tr><tr><th>6</th><td>2015-11-02T09:15:00.028</td><td>OZBAVQMLYK</td><td>447005</td></tr></table>"
      ],
      "text/plain": [
       "6x3 DataFrames.DataFrame\n",
       "│ Row │ timestamp               │ symbol       │ price  │\n",
       "┝━━━━━┿━━━━━━━━━━━━━━━━━━━━━━━━━┿━━━━━━━━━━━━━━┿━━━━━━━━┥\n",
       "│ 1   │ 2015-11-02T09:15:00.028 │ \"ZIJYHGMAQB\" │ 30     │\n",
       "│ 2   │ 2015-11-02T09:15:00.028 │ \"DLINPKXTEH\" │ 7100   │\n",
       "│ 3   │ 2015-11-02T09:15:00.028 │ \"GUBMZEKWIJ\" │ 6690   │\n",
       "│ 4   │ 2015-11-02T09:15:00.028 │ \"HYNEGMRZKF\" │ 20     │\n",
       "│ 5   │ 2015-11-02T09:15:00.028 │ \"DLINPKXTEH\" │ 4800   │\n",
       "│ 6   │ 2015-11-02T09:15:00.028 │ \"OZBAVQMLYK\" │ 447005 │"
      ]
     },
     "execution_count": 3,
     "metadata": {},
     "output_type": "execute_result"
    }
   ],
   "source": [
    "order_prices = cash[[:timestamp, :symbol, :price]]\n",
    "dfmt = Dates.DateFormat(\"yyyy-mm-dd HH:MM:SS.sss\")\n",
    "@time order_prices[:timestamp] = DateTime(order_prices[:timestamp], dfmt)\n",
    "head(order_prices)"
   ]
  },
  {
   "cell_type": "code",
   "execution_count": 4,
   "metadata": {
    "collapsed": false
   },
   "outputs": [
    {
     "name": "stdout",
     "output_type": "stream",
     "text": [
      "  4.924203 seconds (9.16 M allocations: 156.095 MB, 8.71% gc time)\n"
     ]
    },
    {
     "data": {
      "text/html": [
       "<table class=\"data-frame\"><tr><th></th><th>timestamp</th><th>symbol</th><th>price</th></tr><tr><th>1</th><td>2015-11-02T09:15:00.028</td><td>1424</td><td>30</td></tr><tr><th>2</th><td>2015-11-02T09:15:00.028</td><td>190</td><td>7100</td></tr><tr><th>3</th><td>2015-11-02T09:15:00.028</td><td>370</td><td>6690</td></tr><tr><th>4</th><td>2015-11-02T09:15:00.028</td><td>431</td><td>20</td></tr><tr><th>5</th><td>2015-11-02T09:15:00.028</td><td>190</td><td>4800</td></tr><tr><th>6</th><td>2015-11-02T09:15:00.028</td><td>815</td><td>447005</td></tr></table>"
      ],
      "text/plain": [
       "6x3 DataFrames.DataFrame\n",
       "│ Row │ timestamp               │ symbol │ price  │\n",
       "┝━━━━━┿━━━━━━━━━━━━━━━━━━━━━━━━━┿━━━━━━━━┿━━━━━━━━┥\n",
       "│ 1   │ 2015-11-02T09:15:00.028 │ 1424   │ 30     │\n",
       "│ 2   │ 2015-11-02T09:15:00.028 │ 190    │ 7100   │\n",
       "│ 3   │ 2015-11-02T09:15:00.028 │ 370    │ 6690   │\n",
       "│ 4   │ 2015-11-02T09:15:00.028 │ 431    │ 20     │\n",
       "│ 5   │ 2015-11-02T09:15:00.028 │ 190    │ 4800   │\n",
       "│ 6   │ 2015-11-02T09:15:00.028 │ 815    │ 447005 │"
      ]
     },
     "execution_count": 4,
     "metadata": {},
     "output_type": "execute_result"
    }
   ],
   "source": [
    "function prep_cat(col)\n",
    "    cats = sort(convert(Vector{ASCIIString}, unique(col)))\n",
    "    out = Array(Int16, length(col))\n",
    "    for idx in 1:length(out)\n",
    "        out[idx] = searchsortedfirst(cats, col[idx])\n",
    "    end\n",
    "    # ideally, should return cats also, to be referred to later\n",
    "    out\n",
    "end\n",
    "@time order_prices[:symbol] = prep_cat(order_prices[:symbol])\n",
    "head(order_prices)"
   ]
  },
  {
   "cell_type": "code",
   "execution_count": 5,
   "metadata": {
    "collapsed": false
   },
   "outputs": [
    {
     "name": "stdout",
     "output_type": "stream",
     "text": [
      "223.742928 seconds (1.38 G allocations: 30.478 GB, 33.07% gc time)\n"
     ]
    },
    {
     "data": {
      "text/plain": [
       "JuliaTS.TArray(NDSparse{Tuple{Float64},Tuple{Int16,DateTime}}:\n",
       " (1,2015-11-02T09:15:07.25) => (3000.0,)\n",
       " (1,2015-11-02T09:15:21.279) => (2900.0,)\n",
       " (1,2015-11-02T09:15:21.279) => (2675.0,)\n",
       " (1,2015-11-02T09:15:48.331) => (3200.0,)\n",
       " (1,2015-11-02T09:16:29.025) => (3290.0,)\n",
       " (1,2015-11-02T09:17:16.105) => (3650.0,)\n",
       " (1,2015-11-02T09:18:02) => (3195.0,)\n",
       " (1,2015-11-02T09:18:10.622) => (3005.0,)\n",
       " (1,2015-11-02T09:19:28.437) => (2610.0,)\n",
       " (1,2015-11-02T09:19:28.44) => (2790.0,)\n",
       " (1472,2015-11-02T10:44:52.793) => (39500.0,)\n",
       " (1472,2015-11-02T10:44:52.793) => (39500.0,)\n",
       " (1472,2015-11-02T10:44:52.793) => (39500.0,)\n",
       " (1472,2015-11-02T10:44:52.793) => (39500.0,)\n",
       " (1472,2015-11-02T10:44:52.793) => (39500.0,)\n",
       " (1472,2015-11-02T10:44:52.793) => (39500.0,)\n",
       " (1472,2015-11-02T10:44:52.793) => (39500.0,)\n",
       " (1472,2015-11-02T10:44:52.793) => (39500.0,)\n",
       " (1472,2015-11-02T10:44:52.793) => (39500.0,)\n",
       " (1472,2015-11-02T10:44:52.793) => (39500.0,),Dict{ASCIIString,Any}(\"price\"=>[3000.0,2900.0,2675.0,3200.0,3290.0,3650.0,3195.0,3005.0,2610.0,2790.0  …  39500.0,39500.0,39500.0,39500.0,39500.0,39500.0,39500.0,39500.0,39500.0,39500.0],\"symbol\"=>Int16[1,1,1,1,1,1,1,1,1,1  …  1472,1472,1472,1472,1472,1472,1472,1472,1472,1472],\"timestamp\"=>[2015-11-02T09:15:07.25,2015-11-02T09:15:21.279,2015-11-02T09:15:21.279,2015-11-02T09:15:48.331,2015-11-02T09:16:29.025,2015-11-02T09:17:16.105,2015-11-02T09:18:02,2015-11-02T09:18:10.622,2015-11-02T09:19:28.437,2015-11-02T09:19:28.44  …  2015-11-02T10:44:52.793,2015-11-02T10:44:52.793,2015-11-02T10:44:52.793,2015-11-02T10:44:52.793,2015-11-02T10:44:52.793,2015-11-02T10:44:52.793,2015-11-02T10:44:52.793,2015-11-02T10:44:52.793,2015-11-02T10:44:52.793,2015-11-02T10:44:52.793]),(\"symbol\",\"timestamp\"),(\"price\",))"
      ]
     },
     "execution_count": 5,
     "metadata": {},
     "output_type": "execute_result"
    },
    {
     "name": "stdout",
     "output_type": "stream",
     "text": [
      "\n",
      " ⋮"
     ]
    }
   ],
   "source": [
    "ts = convert(Vector{DateTime}, order_prices[:timestamp])\n",
    "symb = convert(Vector{Int16}, order_prices[:symbol])\n",
    "price = convert(Vector{Float64}, order_prices[:price])\n",
    "keynames = (\"symbol\",\"timestamp\")\n",
    "colnames = (\"symbol\",\"timestamp\", \"price\")\n",
    "@time cashts = TArray(keynames, \"timestamp\"=>ts, \"symbol\"=>symb, \"price\"=>price)\n",
    "cashts"
   ]
  },
  {
   "cell_type": "code",
   "execution_count": 6,
   "metadata": {
    "collapsed": false
   },
   "outputs": [
    {
     "name": "stdout",
     "output_type": "stream",
     "text": [
      "  3.396599 seconds (1.82 M allocations: 451.160 MB, 60.87% gc time)\n"
     ]
    },
    {
     "data": {
      "text/plain": [
       "JuliaTS.TArray(NDSparse{Tuple{Float64,Float64,Float64,Float64},Tuple{Int16,DateTime}}:\n",
       " (1,2015-11-02T09:15:07.25) => (3000.0,41250.0,180.0,41250.0)\n",
       " (2,2015-11-02T09:15:00.075) => (41250.0,81000.0,4420.0,14490.0)\n",
       " (3,2015-11-02T09:15:02.548) => (14490.0,27400.0,6010.0,16200.0)\n",
       " (4,2015-11-02T09:15:01.608) => (16200.0,240700.0,110.0,13645.0)\n",
       " (5,2015-11-02T09:15:00.028) => (13645.0,109955.0,200.0,26370.0)\n",
       " (6,2015-11-02T09:15:00.069) => (26370.0,139200.0,2405.0,2405.0)\n",
       " (7,2015-11-02T09:15:02.615) => (2405.0,88530.0,455.0,51000.0)\n",
       " (8,2015-11-02T09:15:00.082) => (51000.0,62440.0,5.0,46000.0)\n",
       " (9,2015-11-02T09:15:00.036) => (46000.0,148000.0,2920.0,148000.0)\n",
       " (10,2015-11-02T09:15:02.285) => (148000.0,221100.0,210.0,210.0)\n",
       " (1463,2015-11-02T09:15:00.048) => (1370.0,231000.0,905.0,11240.0)\n",
       " (1464,2015-11-02T09:15:00.065) => (11240.0,57500.0,1320.0,8800.0)\n",
       " (1465,2015-11-02T09:15:00.079) => (8800.0,999990.0,5400.0,5400.0)\n",
       " (1466,2015-11-02T09:15:00.045) => (5400.0,171900.0,800.0,13895.0)\n",
       " (1467,2015-11-02T09:15:00.04) => (13895.0,80155.0,6875.0,80155.0)\n",
       " (1468,2015-11-02T09:15:00.045) => (80155.0,102500.0,2200.0,17430.0)\n",
       " (1469,2015-11-02T09:15:00.058) => (17430.0,138995.0,5265.0,138995.0)\n",
       " (1470,2015-11-02T09:15:00.062) => (138995.0,164600.0,16550.0,16550.0)\n",
       " (1471,2015-11-02T09:15:00.038) => (16550.0,730000.0,4755.0,730000.0)\n",
       " (1472,2015-11-02T09:15:00.036) => (730000.0,740800.0,1305.0,39500.0),Dict{ASCIIString,Any}(\"high\"=>[41250.0,81000.0,27400.0,240700.0,109955.0,139200.0,88530.0,62440.0,148000.0,221100.0  …  231000.0,57500.0,999990.0,171900.0,80155.0,102500.0,138995.0,164600.0,730000.0,740800.0],\"open\"=>[3000.0,41250.0,14490.0,16200.0,13645.0,26370.0,2405.0,51000.0,46000.0,148000.0  …  1370.0,11240.0,8800.0,5400.0,13895.0,80155.0,17430.0,138995.0,16550.0,730000.0],\"symbol\"=>Int16[1,2,3,4,5,6,7,8,9,10  …  1463,1464,1465,1466,1467,1468,1469,1470,1471,1472],\"timestamp\"=>[2015-11-02T09:15:07.25,2015-11-02T09:15:00.075,2015-11-02T09:15:02.548,2015-11-02T09:15:01.608,2015-11-02T09:15:00.028,2015-11-02T09:15:00.069,2015-11-02T09:15:02.615,2015-11-02T09:15:00.082,2015-11-02T09:15:00.036,2015-11-02T09:15:02.285  …  2015-11-02T09:15:00.048,2015-11-02T09:15:00.065,2015-11-02T09:15:00.079,2015-11-02T09:15:00.045,2015-11-02T09:15:00.04,2015-11-02T09:15:00.045,2015-11-02T09:15:00.058,2015-11-02T09:15:00.062,2015-11-02T09:15:00.038,2015-11-02T09:15:00.036],\"low\"=>[180.0,4420.0,6010.0,110.0,200.0,2405.0,455.0,5.0,2920.0,210.0  …  905.0,1320.0,5400.0,800.0,6875.0,2200.0,5265.0,16550.0,4755.0,1305.0],\"close\"=>[41250.0,14490.0,16200.0,13645.0,26370.0,2405.0,51000.0,46000.0,148000.0,210.0  …  11240.0,8800.0,5400.0,13895.0,80155.0,17430.0,138995.0,16550.0,730000.0,39500.0]),(\"symbol\",\"timestamp\"),(\"open\",\"high\",\"low\",\"close\"))"
      ]
     },
     "execution_count": 6,
     "metadata": {},
     "output_type": "execute_result"
    },
    {
     "name": "stdout",
     "output_type": "stream",
     "text": [
      "\n",
      " ⋮"
     ]
    }
   ],
   "source": [
    "ohlc(symbs,timestamps,prices) = (symbs[1], timestamps[1], prices[1], maximum(prices), minimum(prices), prices[end])\n",
    "function calc_ohlc(prices)\n",
    "    taout = TArray(prices.keynames, \"symbol\"=>Int16[], \"timestamp\"=>DateTime[], \"open\"=>Float64[], \"high\"=>Float64[], \"low\"=>Float64[], \"close\"=>Float64[])\n",
    "    w = KeyWindow((1,DateTime(\"2015-11-02\")), (1, Base.Dates.Day(0)), (0, Base.Dates.Day(1)))\n",
    "    window!(taout, prices, w, ohlc)\n",
    "end\n",
    "@time ohlcprices = calc_ohlc(cashts)\n",
    "ohlcprices"
   ]
  },
  {
   "cell_type": "code",
   "execution_count": null,
   "metadata": {
    "collapsed": true
   },
   "outputs": [],
   "source": []
  }
 ],
 "metadata": {
  "kernelspec": {
   "display_name": "Julia 0.5.0-dev",
   "language": "julia",
   "name": "julia-0.5"
  },
  "language_info": {
   "file_extension": ".jl",
   "mimetype": "application/julia",
   "name": "julia",
   "version": "0.5.0"
  }
 },
 "nbformat": 4,
 "nbformat_minor": 0
}
