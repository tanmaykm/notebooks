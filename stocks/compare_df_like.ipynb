{
 "cells": [
  {
   "cell_type": "markdown",
   "metadata": {},
   "source": [
    "# JuliaTS"
   ]
  },
  {
   "cell_type": "code",
   "execution_count": 113,
   "metadata": {
    "collapsed": false
   },
   "outputs": [
    {
     "name": "stderr",
     "output_type": "stream",
     "text": [
      "\n",
      "WARNING: deprecated syntax \"call(::Type{Indexes}, ...)\".\n",
      "Use \"(::Type{Indexes})(...)\" instead.\n"
     ]
    }
   ],
   "source": [
    "using JuliaTS"
   ]
  },
  {
   "cell_type": "code",
   "execution_count": 114,
   "metadata": {
    "collapsed": false
   },
   "outputs": [
    {
     "data": {
      "text/plain": [
       "Tuple{Int64,Float64} => Tuple{Int64,Float64}\n",
       "\n",
       " (1,1.0) => (1,1.0)\n",
       " (2,2.0) => (2,2.0)\n",
       " (3,3.0) => (3,3.0)\n",
       " (4,4.0) => (4,4.0)\n",
       " (5,5.0) => (5,5.0)\n",
       " (6,6.0) => (6,6.0)\n",
       " (7,7.0) => (7,7.0)\n",
       " (8,8.0) => (8,8.0)\n",
       " (9,9.0) => (9,9.0)\n",
       " (10,10.0) => (10,10.0)\n",
       " ⋮\n",
       " (999991,999991.0) => (999991,999991.0)\n",
       " (999992,999992.0) => (999992,999992.0)\n",
       " (999993,999993.0) => (999993,999993.0)\n",
       " (999994,999994.0) => (999994,999994.0)\n",
       " (999995,999995.0) => (999995,999995.0)\n",
       " (999996,999996.0) => (999996,999996.0)\n",
       " (999997,999997.0) => (999997,999997.0)\n",
       " (999998,999998.0) => (999998,999998.0)\n",
       " (999999,999999.0) => (999999,999999.0)\n",
       " (1000000,1.0e6) => (1000000,1.0e6)"
      ]
     },
     "execution_count": 114,
     "metadata": {},
     "output_type": "execute_result"
    },
    {
     "name": "stdout",
     "output_type": "stream",
     "text": [
      "TArray 1000000x4  (:c1,:c2) => (:c3,:c4)"
     ]
    }
   ],
   "source": [
    "ta = TArray((:c1,:c2), :c1=>[1:10^6;], :c2=>[1.0:1.0:10^6;], :c3=>[1:10^6;], :c4=>[1.0:1.0:10^6;])"
   ]
  },
  {
   "cell_type": "code",
   "execution_count": 118,
   "metadata": {
    "collapsed": false
   },
   "outputs": [
    {
     "name": "stderr",
     "output_type": "stream",
     "text": [
      "WARNING: Method definition myfn1(JuliaTS.TArray, Any) in module Main at In[115]:2 overwritten at In[118]:2.\n",
      "WARNING: Method definition myfn2(JuliaTS.TArray, Any) in module Main at In[115]:9 overwritten at In[118]:9.\n"
     ]
    },
    {
     "data": {
      "text/plain": [
       "myfn2 (generic function with 1 method)"
      ]
     },
     "execution_count": 118,
     "metadata": {},
     "output_type": "execute_result"
    }
   ],
   "source": [
    "function myfn1(ta::TArray, col)\n",
    "    x = getvals(ta, col)\n",
    "    j = zero(eltype(x))\n",
    "    for v in x\n",
    "        j += v\n",
    "    end\n",
    "    j\n",
    "end\n",
    "myfn2(ta::TArray, col) = sum(getvals(ta, col))"
   ]
  },
  {
   "cell_type": "code",
   "execution_count": 132,
   "metadata": {
    "collapsed": false
   },
   "outputs": [
    {
     "data": {
      "text/plain": [
       "JuliaTS.TArray{Tuple{Int64,Float64},Tuple{Int64,Float64},Tuple{Array{Int64,1},Array{Float64,1}},NDSparseData.Indexes{Tuple{Int64,Float64},Tuple{Array{Int64,1},Array{Float64,1}}}}"
      ]
     },
     "execution_count": 132,
     "metadata": {},
     "output_type": "execute_result"
    }
   ],
   "source": [
    "typeof(ta)"
   ]
  },
  {
   "cell_type": "code",
   "execution_count": 119,
   "metadata": {
    "collapsed": false
   },
   "outputs": [
    {
     "name": "stdout",
     "output_type": "stream",
     "text": [
      "  0.206211 seconds (6.00 M allocations: 106.869 MB, 9.32% gc time)\n"
     ]
    },
    {
     "data": {
      "text/plain": [
       "500000500000"
      ]
     },
     "execution_count": 119,
     "metadata": {},
     "output_type": "execute_result"
    }
   ],
   "source": [
    "@time myfn1(ta, :c3)"
   ]
  },
  {
   "cell_type": "code",
   "execution_count": 120,
   "metadata": {
    "collapsed": false
   },
   "outputs": [
    {
     "name": "stdout",
     "output_type": "stream",
     "text": [
      "  0.005731 seconds (10.69 k allocations: 181.475 KB)\n"
     ]
    },
    {
     "data": {
      "text/plain": [
       "500000500000"
      ]
     },
     "execution_count": 120,
     "metadata": {},
     "output_type": "execute_result"
    }
   ],
   "source": [
    "@time myfn2(ta, :c3)"
   ]
  },
  {
   "cell_type": "code",
   "execution_count": 121,
   "metadata": {
    "collapsed": false
   },
   "outputs": [
    {
     "name": "stdout",
     "output_type": "stream",
     "text": [
      "Variables:\n",
      "  #self#::#myfn1\n",
      "  ta::JuliaTS.TArray{Tuple{Int64,Float64},Tuple{Int64,Float64},Tuple{Array{Int64,1},Array{Float64,1}},NDSparseData.Indexes{Tuple{Int64,Float64},Tuple{Array{Int64,1},Array{Float64,1}}}}\n",
      "  col::Symbol\n",
      "  x::UNION{ARRAY{FLOAT64,1},ARRAY{INT64,1}}\n",
      "  j::ANY\n",
      "  #temp#::Int64\n",
      "  v::REAL\n",
      "  idx::Int64\n",
      "\n",
      "Body:\n",
      "  begin  # In[118], line 2: # /home/tan/.julia/v0.5/JuliaTS/src/ts.jl, line 155:\n",
      "      idx::Int64 = (Base.findnext)((top(getfield))(ta::JuliaTS.TArray{Tuple{Int64,Float64},Tuple{Int64,Float64},Tuple{Array{Int64,1},Array{Float64,1}},NDSparseData.Indexes{Tuple{Int64,Float64},Tuple{Array{Int64,1},Array{Float64,1}}}},:valnames)::TUPLE,col::Symbol,1)::Int64 # /home/tan/.julia/v0.5/JuliaTS/src/ts.jl, line 156:\n",
      "      x::UNION{ARRAY{FLOAT64,1},ARRAY{INT64,1}} = (Base.getfield)((top(getfield))((top(getfield))((top(getfield))(ta::JuliaTS.TArray{Tuple{Int64,Float64},Tuple{Int64,Float64},Tuple{Array{Int64,1},Array{Float64,1}},NDSparseData.Indexes{Tuple{Int64,Float64},Tuple{Array{Int64,1},Array{Float64,1}}}},:data)::NDSparseData.NDSparse{Tuple{Int64,Float64},Tuple{Int64,Float64},Tuple{Array{Int64,1},Array{Float64,1}},NDSparseData.Indexes{Tuple{Int64,Float64},Tuple{Array{Int64,1},Array{Float64,1}}}},:data)::NDSparseData.Indexes{Tuple{Int64,Float64},Tuple{Array{Int64,1},Array{Float64,1}}},:columns)::Tuple{Array{Int64,1},Array{Float64,1}},idx::Int64)::UNION{ARRAY{FLOAT64,1},ARRAY{INT64,1}} # In[118], line 3:\n",
      "      j::ANY = (Main.zero)((Main.eltype)(x::UNION{ARRAY{FLOAT64,1},ARRAY{INT64,1}})::UNION{TYPE{FLOAT64},TYPE{INT64}})::UNION{FLOAT64,INT64} # In[118], line 4:\n",
      "      GenSym(0) = x::UNION{ARRAY{FLOAT64,1},ARRAY{INT64,1}}\n",
      "      #temp#::Int64 = (top(start))(GenSym(0))::Int64\n",
      "      11: \n",
      "      GenSym(2) = (top(done))(GenSym(0),#temp#::Int64)::Bool # bool.jl, line 16:\n",
      "      unless (Base.box)(Base.Bool,(Base.not_int)(GenSym(2))) goto 22\n",
      "      GenSym(1) = (top(next))(GenSym(0),#temp#::Int64)::TUPLE{REAL,INT64}\n",
      "      v::REAL = (top(getfield))(GenSym(1),1)::REAL\n",
      "      #temp#::Int64 = (top(getfield))(GenSym(1),2)::Int64 # In[118], line 5:\n",
      "      j::ANY = (j::ANY + v::REAL)::ANY\n",
      "      20: \n",
      "      goto 11\n",
      "      22: \n",
      "      23:  # In[118], line 7:\n",
      "      return j::ANY\n",
      "  end::ANY\n"
     ]
    }
   ],
   "source": [
    "@code_warntype myfn1(ta, :c3)"
   ]
  },
  {
   "cell_type": "markdown",
   "metadata": {},
   "source": [
    "# TypedTables"
   ]
  },
  {
   "cell_type": "code",
   "execution_count": 167,
   "metadata": {
    "collapsed": true
   },
   "outputs": [],
   "source": [
    "using TypedTables"
   ]
  },
  {
   "cell_type": "code",
   "execution_count": 168,
   "metadata": {
    "collapsed": false
   },
   "outputs": [
    {
     "data": {
      "text/plain": [
       "        ┌─────────┬─────────┬─────────┬─────────┐\n",
       "Row     │ c1      │ c2      │ c3      │ c4      │\n",
       "        ├─────────┼─────────┼─────────┼─────────┤\n",
       "      1 │       1 │ 1.      │       1 │ 1.      │\n",
       "      2 │       2 │ 2.      │       2 │ 2.      │\n",
       "      3 │       3 │ 3.      │       3 │ 3.      │\n",
       "      4 │       4 │ 4.      │       4 │ 4.      │\n",
       "      5 │       5 │ 5.      │       5 │ 5.      │\n",
       "      6 │       6 │ 6.      │       6 │ 6.      │\n",
       "        │    ⋮    │    ⋮    │    ⋮    │    ⋮    │\n",
       " 999995 │  999995 │   1e+06 │  999995 │   1e+06 │\n",
       " 999996 │  999996 │   1e+06 │  999996 │   1e+06 │\n",
       " 999997 │  999997 │   1e+06 │  999997 │   1e+06 │\n",
       " 999998 │  999998 │   1e+06 │  999998 │   1e+06 │\n",
       " 999999 │  999999 │   1e+06 │  999999 │   1e+06 │\n",
       "1000000 │ 1000000 │   1e+06 │ 1000000 │   1e+06 │\n",
       "        └─────────┴─────────┴─────────┴─────────┘"
      ]
     },
     "execution_count": 168,
     "metadata": {},
     "output_type": "execute_result"
    }
   ],
   "source": [
    "t = @table(c1::Int64=[1:10^6;], c2::Float64=[1.0:1.0:10^6;], c3::Int64=[1:10^6;], c4::Float64=[1.0:1.0:10^6;])"
   ]
  },
  {
   "cell_type": "code",
   "execution_count": 163,
   "metadata": {
    "collapsed": false
   },
   "outputs": [],
   "source": [
    "using NullableArrays"
   ]
  },
  {
   "cell_type": "code",
   "execution_count": 169,
   "metadata": {
    "collapsed": false
   },
   "outputs": [
    {
     "data": {
      "text/plain": [
       "        ┌─────────┬─────────┬─────────┬──────────────┐\n",
       "Row     │ c1      │ c2      │ c3      │ c4           │\n",
       "        ├─────────┼─────────┼─────────┼──────────────┤\n",
       "      1 │       1 │ 1.      │       1 │         NULL │\n",
       "      2 │       2 │ 2.      │       2 │       2.     │\n",
       "      3 │       3 │ 3.      │       3 │       3.     │\n",
       "      4 │       4 │ 4.      │       4 │         NULL │\n",
       "      5 │       5 │ 5.      │       5 │         NULL │\n",
       "      6 │       6 │ 6.      │       6 │       6.     │\n",
       "        │    ⋮    │    ⋮    │    ⋮    │      ⋮       │\n",
       " 999995 │  999995 │   1e+06 │  999995 │  999995.     │\n",
       " 999996 │  999996 │   1e+06 │  999996 │         NULL │\n",
       " 999997 │  999997 │   1e+06 │  999997 │  999997.     │\n",
       " 999998 │  999998 │   1e+06 │  999998 │         NULL │\n",
       " 999999 │  999999 │   1e+06 │  999999 │         NULL │\n",
       "1000000 │ 1000000 │   1e+06 │ 1000000 │ 1000000.     │\n",
       "        └─────────┴─────────┴─────────┴──────────────┘"
      ]
     },
     "execution_count": 169,
     "metadata": {},
     "output_type": "execute_result"
    }
   ],
   "source": [
    "tn = @table(c1::Int64=[1:10^6;], c2::Float64=[1.0:1.0:10^6;], c3::Int64=[1:10^6;],\n",
    "            c4::Nullable{Float64}=NullableArray([1.0:1.0:10^6;], rand(Bool, 10^6)))"
   ]
  },
  {
   "cell_type": "code",
   "execution_count": 172,
   "metadata": {
    "collapsed": false
   },
   "outputs": [
    {
     "name": "stderr",
     "output_type": "stream",
     "text": [
      "WARNING: Method definition ttfn1(TypedTables.Table, Type{Base.Val{#c<:Any}}) in module Main at In[137]:2 overwritten at In[172]:2.\n",
      "WARNING: Method definition ttfn2(TypedTables.Table, Any) in module Main at In[137]:14 overwritten at In[172]:14.\n"
     ]
    },
    {
     "data": {
      "text/plain": [
       "ttfn2 (generic function with 1 method)"
      ]
     },
     "execution_count": 172,
     "metadata": {},
     "output_type": "execute_result"
    }
   ],
   "source": [
    "@generated function ttfn1{c}(t::Table, col::Type{Val{c}})\n",
    "    d = Dict([(typeof(f).parameters...,) for f in t.parameters[1]])\n",
    "    T = d[c]\n",
    "    \n",
    "    quote\n",
    "        x = t[col]::Array{$T,1}\n",
    "        j = zero($T)\n",
    "        for v in x\n",
    "            j += v\n",
    "        end\n",
    "        j\n",
    "    end\n",
    "end\n",
    "ttfn2(t::Table, col) = sum(t[Val{col}])"
   ]
  },
  {
   "cell_type": "code",
   "execution_count": 174,
   "metadata": {
    "collapsed": false
   },
   "outputs": [
    {
     "name": "stdout",
     "output_type": "stream",
     "text": [
      "  0.000859 seconds (5 allocations: 176 bytes)\n"
     ]
    },
    {
     "data": {
      "text/plain": [
       "500000500000"
      ]
     },
     "execution_count": 174,
     "metadata": {},
     "output_type": "execute_result"
    }
   ],
   "source": [
    "@time ttfn1(t, Val{:c3})"
   ]
  },
  {
   "cell_type": "code",
   "execution_count": 176,
   "metadata": {
    "collapsed": false
   },
   "outputs": [
    {
     "name": "stdout",
     "output_type": "stream",
     "text": [
      "  0.000801 seconds (10.23 k allocations: 159.938 KB)\n"
     ]
    },
    {
     "data": {
      "text/plain": [
       "500000500000"
      ]
     },
     "execution_count": 176,
     "metadata": {},
     "output_type": "execute_result"
    }
   ],
   "source": [
    "@time ttfn2(t, :c3)"
   ]
  },
  {
   "cell_type": "code",
   "execution_count": 205,
   "metadata": {
    "collapsed": false
   },
   "outputs": [
    {
     "data": {
      "text/plain": [
       "    ┌────┬────┐\n",
       "Row │ c1 │ c2 │\n",
       "    ├────┼────┤\n",
       "  1 │ 1  │ 1. │\n",
       "  2 │ 3  │ 3. │\n",
       "  3 │ 5  │ 5. │\n",
       "  4 │ 7  │ 7. │\n",
       "  5 │ 9  │ 9. │\n",
       "    └────┴────┘"
      ]
     },
     "execution_count": 205,
     "metadata": {},
     "output_type": "execute_result"
    }
   ],
   "source": [
    "t12 = t[[1:2:10;], Val{(:c1, :c2)}]"
   ]
  },
  {
   "cell_type": "code",
   "execution_count": 206,
   "metadata": {
    "collapsed": false
   },
   "outputs": [
    {
     "data": {
      "text/plain": [
       "TypedTables.Table{(c1::Int64,c2::Float64),Tuple{Int64,Float64},Tuple{Array{Int64,1},Array{Float64,1}}}"
      ]
     },
     "execution_count": 206,
     "metadata": {},
     "output_type": "execute_result"
    }
   ],
   "source": [
    "typeof(t12)"
   ]
  },
  {
   "cell_type": "code",
   "execution_count": 207,
   "metadata": {
    "collapsed": false
   },
   "outputs": [
    {
     "data": {
      "text/plain": [
       "1000000-element Array{Int64,1}:\n",
       "       1\n",
       "       2\n",
       "       3\n",
       "       4\n",
       "       5\n",
       "       6\n",
       "       7\n",
       "       8\n",
       "       9\n",
       "      10\n",
       "      11\n",
       "      12\n",
       "      13\n",
       "       ⋮\n",
       "  999989\n",
       "  999990\n",
       "  999991\n",
       "  999992\n",
       "  999993\n",
       "  999994\n",
       "  999995\n",
       "  999996\n",
       "  999997\n",
       "  999998\n",
       "  999999\n",
       " 1000000"
      ]
     },
     "execution_count": 207,
     "metadata": {},
     "output_type": "execute_result"
    }
   ],
   "source": [
    "t[Val{:c1}]"
   ]
  },
  {
   "cell_type": "code",
   "execution_count": 208,
   "metadata": {
    "collapsed": false
   },
   "outputs": [
    {
     "data": {
      "text/plain": [
       "(c1::Int64,c2::Float64)"
      ]
     },
     "execution_count": 208,
     "metadata": {},
     "output_type": "execute_result"
    }
   ],
   "source": [
    "I = @index(c1::Int64, c2::Float64)"
   ]
  },
  {
   "cell_type": "code",
   "execution_count": 209,
   "metadata": {
    "collapsed": false
   },
   "outputs": [
    {
     "data": {
      "text/plain": [
       "TypedTables.FieldIndex{(c1::Int64,c2::Float64)}"
      ]
     },
     "execution_count": 209,
     "metadata": {},
     "output_type": "execute_result"
    }
   ],
   "source": [
    "typeof(I)"
   ]
  },
  {
   "cell_type": "code",
   "execution_count": 210,
   "metadata": {
    "collapsed": false
   },
   "outputs": [
    {
     "name": "stdout",
     "output_type": "stream",
     "text": [
      "c1::Int64\n",
      "c2::Float64\n"
     ]
    }
   ],
   "source": [
    "for x in I\n",
    "    println(x)\n",
    "end"
   ]
  },
  {
   "cell_type": "markdown",
   "metadata": {},
   "source": [
    "# StructsOfArrays\n",
    "\n",
    "Seems to be useful only to acess a row as types. Column vectors not exposed to outside.\n",
    "\n",
    "Could be used with some new methods that expose the column vectors."
   ]
  },
  {
   "cell_type": "markdown",
   "metadata": {},
   "source": [
    "# DataFramesMeta"
   ]
  },
  {
   "cell_type": "code",
   "execution_count": 177,
   "metadata": {
    "collapsed": false
   },
   "outputs": [],
   "source": [
    "using DataFramesMeta\n",
    "using DataFrames"
   ]
  },
  {
   "cell_type": "code",
   "execution_count": 178,
   "metadata": {
    "collapsed": false
   },
   "outputs": [
    {
     "data": {
      "text/html": [
       "<table class=\"data-frame\"><tr><th></th><th>c1</th><th>c2</th><th>c3</th><th>c4</th></tr><tr><th>1</th><td>1</td><td>1.0</td><td>1</td><td>1.0</td></tr><tr><th>2</th><td>2</td><td>2.0</td><td>2</td><td>2.0</td></tr><tr><th>3</th><td>3</td><td>3.0</td><td>3</td><td>3.0</td></tr><tr><th>4</th><td>4</td><td>4.0</td><td>4</td><td>4.0</td></tr><tr><th>5</th><td>5</td><td>5.0</td><td>5</td><td>5.0</td></tr><tr><th>6</th><td>6</td><td>6.0</td><td>6</td><td>6.0</td></tr><tr><th>7</th><td>7</td><td>7.0</td><td>7</td><td>7.0</td></tr><tr><th>8</th><td>8</td><td>8.0</td><td>8</td><td>8.0</td></tr><tr><th>9</th><td>9</td><td>9.0</td><td>9</td><td>9.0</td></tr><tr><th>10</th><td>10</td><td>10.0</td><td>10</td><td>10.0</td></tr><tr><th>11</th><td>11</td><td>11.0</td><td>11</td><td>11.0</td></tr><tr><th>12</th><td>12</td><td>12.0</td><td>12</td><td>12.0</td></tr><tr><th>13</th><td>13</td><td>13.0</td><td>13</td><td>13.0</td></tr><tr><th>14</th><td>14</td><td>14.0</td><td>14</td><td>14.0</td></tr><tr><th>15</th><td>15</td><td>15.0</td><td>15</td><td>15.0</td></tr><tr><th>16</th><td>16</td><td>16.0</td><td>16</td><td>16.0</td></tr><tr><th>17</th><td>17</td><td>17.0</td><td>17</td><td>17.0</td></tr><tr><th>18</th><td>18</td><td>18.0</td><td>18</td><td>18.0</td></tr><tr><th>19</th><td>19</td><td>19.0</td><td>19</td><td>19.0</td></tr><tr><th>20</th><td>20</td><td>20.0</td><td>20</td><td>20.0</td></tr><tr><th>21</th><td>21</td><td>21.0</td><td>21</td><td>21.0</td></tr><tr><th>22</th><td>22</td><td>22.0</td><td>22</td><td>22.0</td></tr><tr><th>23</th><td>23</td><td>23.0</td><td>23</td><td>23.0</td></tr><tr><th>24</th><td>24</td><td>24.0</td><td>24</td><td>24.0</td></tr><tr><th>25</th><td>25</td><td>25.0</td><td>25</td><td>25.0</td></tr><tr><th>26</th><td>26</td><td>26.0</td><td>26</td><td>26.0</td></tr><tr><th>27</th><td>27</td><td>27.0</td><td>27</td><td>27.0</td></tr><tr><th>28</th><td>28</td><td>28.0</td><td>28</td><td>28.0</td></tr><tr><th>29</th><td>29</td><td>29.0</td><td>29</td><td>29.0</td></tr><tr><th>30</th><td>30</td><td>30.0</td><td>30</td><td>30.0</td></tr><tr><th>&vellip;</th><td>&vellip;</td><td>&vellip;</td><td>&vellip;</td><td>&vellip;</td></tr></table>"
      ],
      "text/plain": [
       "1000000x4 DataFrames.DataFrame\n",
       "│ Row     │ c1      │ c2       │ c3      │ c4       │\n",
       "┝━━━━━━━━━┿━━━━━━━━━┿━━━━━━━━━━┿━━━━━━━━━┿━━━━━━━━━━┥\n",
       "│ 1       │ 1       │ 1.0      │ 1       │ 1.0      │\n",
       "│ 2       │ 2       │ 2.0      │ 2       │ 2.0      │\n",
       "│ 3       │ 3       │ 3.0      │ 3       │ 3.0      │\n",
       "│ 4       │ 4       │ 4.0      │ 4       │ 4.0      │\n",
       "│ 5       │ 5       │ 5.0      │ 5       │ 5.0      │\n",
       "│ 6       │ 6       │ 6.0      │ 6       │ 6.0      │\n",
       "│ 7       │ 7       │ 7.0      │ 7       │ 7.0      │\n",
       "│ 8       │ 8       │ 8.0      │ 8       │ 8.0      │\n",
       "│ 9       │ 9       │ 9.0      │ 9       │ 9.0      │\n",
       "│ 10      │ 10      │ 10.0     │ 10      │ 10.0     │\n",
       "│ 11      │ 11      │ 11.0     │ 11      │ 11.0     │\n",
       "⋮\n",
       "│ 999989  │ 999989  │ 999989.0 │ 999989  │ 999989.0 │\n",
       "│ 999990  │ 999990  │ 999990.0 │ 999990  │ 999990.0 │\n",
       "│ 999991  │ 999991  │ 999991.0 │ 999991  │ 999991.0 │\n",
       "│ 999992  │ 999992  │ 999992.0 │ 999992  │ 999992.0 │\n",
       "│ 999993  │ 999993  │ 999993.0 │ 999993  │ 999993.0 │\n",
       "│ 999994  │ 999994  │ 999994.0 │ 999994  │ 999994.0 │\n",
       "│ 999995  │ 999995  │ 999995.0 │ 999995  │ 999995.0 │\n",
       "│ 999996  │ 999996  │ 999996.0 │ 999996  │ 999996.0 │\n",
       "│ 999997  │ 999997  │ 999997.0 │ 999997  │ 999997.0 │\n",
       "│ 999998  │ 999998  │ 999998.0 │ 999998  │ 999998.0 │\n",
       "│ 999999  │ 999999  │ 999999.0 │ 999999  │ 999999.0 │\n",
       "│ 1000000 │ 1000000 │ 1.0e6    │ 1000000 │ 1.0e6    │"
      ]
     },
     "execution_count": 178,
     "metadata": {},
     "output_type": "execute_result"
    }
   ],
   "source": [
    "df = DataFrame(c1=[1:10^6;], c2=[1.0:1.0:10^6;], c3=[1:10^6;], c4=[1.0:1.0:10^6;])"
   ]
  },
  {
   "cell_type": "code",
   "execution_count": 179,
   "metadata": {
    "collapsed": false
   },
   "outputs": [
    {
     "data": {
      "text/plain": [
       "Int64"
      ]
     },
     "execution_count": 179,
     "metadata": {},
     "output_type": "execute_result"
    }
   ],
   "source": [
    "col = :c1\n",
    "eltype(df[col])"
   ]
  },
  {
   "cell_type": "code",
   "execution_count": 180,
   "metadata": {
    "collapsed": false
   },
   "outputs": [
    {
     "data": {
      "text/plain": [
       "500000500000"
      ]
     },
     "execution_count": 180,
     "metadata": {},
     "output_type": "execute_result"
    }
   ],
   "source": [
    "@with df begin\n",
    "    j = zero((eltype(:c1)))\n",
    "    for v in :c1\n",
    "        j += v\n",
    "    end\n",
    "    return j\n",
    "end"
   ]
  },
  {
   "cell_type": "code",
   "execution_count": 181,
   "metadata": {
    "collapsed": false
   },
   "outputs": [
    {
     "ename": "LoadError",
     "evalue": "LoadError: MethodError: no method matching getindex(::DataFrames.DataFrame, ::Expr)\nClosest candidates are:\n  getindex(::DataFrames.DataFrame, !Matched::Colon)\n  getindex(::DataFrames.DataFrame, !Matched::Colon, !Matched::Colon)\n  getindex(::DataFrames.DataFrame, !Matched::Real, !Matched::Union{Real,Symbol})\n  ...\nwhile loading In[181], in expression starting on line 2",
     "output_type": "error",
     "traceback": [
      "LoadError: MethodError: no method matching getindex(::DataFrames.DataFrame, ::Expr)\nClosest candidates are:\n  getindex(::DataFrames.DataFrame, !Matched::Colon)\n  getindex(::DataFrames.DataFrame, !Matched::Colon, !Matched::Colon)\n  getindex(::DataFrames.DataFrame, !Matched::Real, !Matched::Union{Real,Symbol})\n  ...\nwhile loading In[181], in expression starting on line 2",
      ""
     ]
    }
   ],
   "source": [
    "col = :c1\n",
    "@with df begin\n",
    "    quote\n",
    "        return sum(esc(col))\n",
    "    end\n",
    "end"
   ]
  },
  {
   "cell_type": "code",
   "execution_count": 76,
   "metadata": {
    "collapsed": false
   },
   "outputs": [
    {
     "name": "stderr",
     "output_type": "stream",
     "text": [
      "WARNING: Method definition dffn1(DataFrames.DataFrame, Any) in module Main at In[61]:2 overwritten at In[76]:2.\n",
      "WARNING: Method definition dffn2(DataFrames.DataFrame, Any) in module Main at In[61]:10 overwritten at In[76]:10.\n"
     ]
    },
    {
     "data": {
      "text/plain": [
       "dffn2 (generic function with 1 method)"
      ]
     },
     "execution_count": 76,
     "metadata": {},
     "output_type": "execute_result"
    }
   ],
   "source": [
    "function dffn1(t::DataFrame, col)\n",
    "    @with t begin\n",
    "        j = zero(eltype(col))\n",
    "        for v in col\n",
    "            j += v\n",
    "        end\n",
    "        return j\n",
    "    end\n",
    "end\n",
    "dffn2(t::DataFrame, col) = @with df begin\n",
    "    return sum(col)\n",
    "end"
   ]
  }
 ],
 "metadata": {
  "kernelspec": {
   "display_name": "Julia 0.5.0-dev",
   "language": "julia",
   "name": "julia-0.5"
  },
  "language_info": {
   "file_extension": ".jl",
   "mimetype": "application/julia",
   "name": "julia",
   "version": "0.5.0"
  }
 },
 "nbformat": 4,
 "nbformat_minor": 0
}
