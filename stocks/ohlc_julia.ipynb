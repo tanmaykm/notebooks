{
 "cells": [
  {
   "cell_type": "code",
   "execution_count": 1,
   "metadata": {
    "collapsed": false
   },
   "outputs": [
    {
     "name": "stderr",
     "output_type": "stream",
     "text": [
      "INFO: Recompiling stale cache file /home/tan/.julia/lib/v0.5/DataFrames.ji for module DataFrames.\n",
      "INFO: Recompiling stale cache file /home/tan/.julia/lib/v0.5/StatsBase.ji for module StatsBase.\n",
      "INFO: Recompiling stale cache file /home/tan/.julia/lib/v0.5/ArrayViews.ji for module ArrayViews.\n",
      "WARNING: Method definition (::Type{ArrayViews.UnsafeContiguousView})(Ptr{#T<:Any}, Int64, NTuple{#N<:Any, Int64}) in module ArrayViews at /home/tan/.julia/v0.5/ArrayViews/src/arrviews.jl:18 overwritten at /home/tan/.julia/v0.5/ArrayViews/src/arrviews.jl:26.\n",
      "INFO: Recompiling stale cache file /home/tan/.julia/lib/v0.5/StatsFuns.ji for module StatsFuns.\n",
      "WARNING: Base.Func is deprecated, use Function instead.\n",
      "  likely near /home/tan/.julia/v0.5/StatsBase/src/weights.jl:134\n",
      "WARNING: Base.Func is deprecated, use Function instead.\n",
      "  likely near /home/tan/.julia/v0.5/StatsBase/src/weights.jl:159\n",
      "INFO: Recompiling stale cache file /home/tan/.julia/lib/v0.5/DataArrays.ji for module DataArrays.\n",
      "WARNING: Method definition (::Type{DataArrays.FastPerm})(#O<:Base.Order.Ordering, #V<:AbstractArray{T<:Any, 1}) in module DataArrays at /home/tan/.julia/v0.5/DataArrays/src/pooleddataarray.jl:598 overwritten at /home/tan/.julia/v0.5/DataArrays/src/pooleddataarray.jl:601.\n",
      "WARNING: Method definition PooledDataVecs(DataArrays.PooledDataArray{#S<:Any, #R<:Integer, #N<:Any}, AbstractArray{#S<:Any, #N<:Any}) in module DataArrays at /home/tan/.julia/v0.5/DataArrays/src/pooleddataarray.jl:645 overwritten at /home/tan/.julia/v0.5/DataArrays/src/pooleddataarray.jl:650.\n",
      "WARNING: Base.AddFun is deprecated, use Base.#+ instead.\n",
      "  likely near /home/tan/.julia/v0.5/DataArrays/src/reduce.jl:67\n",
      "WARNING: Base.IdFun is deprecated, use Base.#identity instead.\n",
      "  likely near /home/tan/.julia/v0.5/DataArrays/src/reduce.jl:90\n",
      "WARNING: Base.AbsFun is deprecated, use Base.#abs instead.\n",
      "  likely near /home/tan/.julia/v0.5/DataArrays/src/reduce.jl:90\n",
      "WARNING: Base.Abs2Fun is deprecated, use Base.#abs2 instead.\n",
      "  likely near /home/tan/.julia/v0.5/DataArrays/src/reduce.jl:90\n",
      "WARNING: Base.ExpFun is deprecated, use Base.#exp instead.\n",
      "  likely near /home/tan/.julia/v0.5/DataArrays/src/reduce.jl:90\n",
      "WARNING: Base.LogFun is deprecated, use Base.#log instead.\n",
      "  likely near /home/tan/.julia/v0.5/DataArrays/src/reduce.jl:90\n",
      "WARNING: Base.CentralizedAbs2Fun is deprecated, use Base.##561#562 instead.\n",
      "  likely near /home/tan/.julia/v0.5/DataArrays/src/reduce.jl:90\n",
      "WARNING: Base.AddFun is deprecated, use Base.#+ instead.\n",
      "  likely near /home/tan/.julia/v0.5/DataArrays/src/reduce.jl:92\n",
      "WARNING: Base.MulFun is deprecated, use Base.#* instead.\n",
      "  likely near /home/tan/.julia/v0.5/DataArrays/src/reduce.jl:92\n",
      "WARNING: Base.MaxFun is deprecated, use Base.#scalarmax instead.\n",
      "  likely near /home/tan/.julia/v0.5/DataArrays/src/reduce.jl:92\n",
      "WARNING: Base.MinFun is deprecated, use Base.#scalarmin instead.\n",
      "  likely near /home/tan/.julia/v0.5/DataArrays/src/reduce.jl:92\n",
      "WARNING: New definition \n",
      "    mapreduce(Any, Function, DataArrays.DataArray) at /home/tan/.julia/v0.5/DataArrays/src/reduce.jl:99\n",
      "is ambiguous with: \n",
      "    mapreduce(Any, Union{Base.#&, Base.#|}, AbstractArray) at reduce.jl:217.\n",
      "To fix, define \n",
      "    mapreduce(Any, Union{Base.#&, Base.#|}, DataArrays.DataArray)\n",
      "before the new definition.\n",
      "WARNING: Base.OrFun is deprecated, use Base.#| instead.\n",
      "  likely near /home/tan/.julia/v0.5/DataArrays/src/reduce.jl:107\n",
      "WARNING: Base.AndFun is deprecated, use Base.#& instead.\n",
      "  likely near /home/tan/.julia/v0.5/DataArrays/src/reduce.jl:107\n",
      "WARNING: Base.OrFun is deprecated, use Base.#| instead.\n",
      "  likely near /home/tan/.julia/v0.5/DataArrays/src/reduce.jl:107\n",
      "WARNING: Base.AndFun is deprecated, use Base.#& instead.\n",
      "  likely near /home/tan/.julia/v0.5/DataArrays/src/reduce.jl:107\n",
      "WARNING: Base.OrFun is deprecated, use Base.#| instead.\n",
      "  likely near /home/tan/.julia/v0.5/DataArrays/src/reduce.jl:107\n",
      "WARNING: Base.AndFun is deprecated, use Base.#& instead.\n",
      "  likely near /home/tan/.julia/v0.5/DataArrays/src/reduce.jl:107\n",
      "WARNING: Base.AddFun is deprecated, use Base.#+ instead.\n",
      "  likely near /home/tan/.julia/v0.5/DataArrays/src/reduce.jl:118\n",
      "\n",
      "WARNING: Base.MulFun is deprecated, use Base.#* instead.\n",
      "  likely near /home/tan/.julia/v0.5/DataArrays/src/reduce.jl:118\n",
      "\n",
      "WARNING: Base.MinFun is deprecated, use Base.#scalarmin instead.\n",
      "  likely near /home/tan/.julia/v0.5/DataArrays/src/reduce.jl:118\n",
      "\n",
      "WARNING: Base.MaxFun is deprecated, use Base.#scalarmax instead.\n",
      "  likely near /home/tan/.julia/v0.5/DataArrays/src/reduce.jl:118\n",
      "\n",
      "WARNING: Base.AddFun is deprecated, use Base.#+ instead.\n",
      "  likely near /home/tan/.julia/v0.5/DataArrays/src/reduce.jl:118\n",
      "WARNING: Base.MulFun is deprecated, use Base.#* instead.\n",
      "  likely near /home/tan/.julia/v0.5/DataArrays/src/reduce.jl:118\n",
      "WARNING: Base.MinFun is deprecated, use Base.#scalarmin instead.\n",
      "  likely near /home/tan/.julia/v0.5/DataArrays/src/reduce.jl:118\n",
      "WARNING: Base.MaxFun is deprecated, use Base.#scalarmax instead.\n",
      "  likely near /home/tan/.julia/v0.5/DataArrays/src/reduce.jl:118\n",
      "WARNING: Base.AddFun is deprecated, use Base.#+ instead.\n",
      "  likely near /home/tan/.julia/v0.5/DataArrays/src/reduce.jl:118\n",
      "WARNING: Base.MulFun is deprecated, use Base.#* instead.\n",
      "  likely near /home/tan/.julia/v0.5/DataArrays/src/reduce.jl:118\n",
      "WARNING: Base.MinFun is deprecated, use Base.#scalarmin instead.\n",
      "  likely near /home/tan/.julia/v0.5/DataArrays/src/reduce.jl:118\n",
      "WARNING: Base.MaxFun is deprecated, use Base.#scalarmax instead.\n",
      "  likely near /home/tan/.julia/v0.5/DataArrays/src/reduce.jl:118\n",
      "WARNING: Base.Func is deprecated, use Function instead.\n",
      "  likely near /home/tan/.julia/v0.5/DataArrays/src/reduce.jl:123\n",
      "WARNING: Base.Func is deprecated, use Function instead.\n",
      "  likely near /home/tan/.julia/v0.5/DataArrays/src/reduce.jl:123\n",
      "WARNING: Base.Func is deprecated, use Function instead.\n",
      "  likely near /home/tan/.julia/v0.5/DataArrays/src/reduce.jl:123\n",
      "WARNING: Base.Func is deprecated, use Function instead.\n",
      "  likely near /home/tan/.julia/v0.5/DataArrays/src/reduce.jl:123\n",
      "WARNING: Base.Func is deprecated, use Function instead.\n",
      "  likely near /home/tan/.julia/v0.5/DataArrays/src/reduce.jl:123\n",
      "WARNING: Base.Func is deprecated, use Function instead.\n",
      "  likely near /home/tan/.julia/v0.5/DataArrays/src/reduce.jl:123\n",
      "WARNING: Base.Func is deprecated, use Function instead.\n",
      "  likely near /home/tan/.julia/v0.5/DataArrays/src/reduce.jl:123\n",
      "WARNING: Base.Func is deprecated, use Function instead.\n",
      "  likely near /home/tan/.julia/v0.5/DataArrays/src/reduce.jl:123\n",
      "WARNING: Base.Func is deprecated, use Function instead.\n",
      "  likely near /home/tan/.julia/v0.5/DataArrays/src/reduce.jl:123\n",
      "WARNING: Base.Func is deprecated, use Function instead.\n",
      "  likely near /home/tan/.julia/v0.5/DataArrays/src/reduce.jl:123\n",
      "WARNING: Base.Func is deprecated, use Function instead.\n",
      "  likely near /home/tan/.julia/v0.5/DataArrays/src/reduce.jl:123\n",
      "WARNING: Base.Func is deprecated, use Function instead.\n",
      "  likely near /home/tan/.julia/v0.5/DataArrays/src/reduce.jl:123\n",
      "WARNING: Base.AbsFun is deprecated, use Base.#abs instead.\n",
      "  likely near /home/tan/.julia/v0.5/DataArrays/src/reduce.jl:130\n",
      "\n",
      "WARNING: Base.AddFun is deprecated, use Base.#+ instead.\n",
      "  likely near /home/tan/.julia/v0.5/DataArrays/src/reduce.jl:130\n",
      "\n",
      "WARNING: Base.Abs2Fun is deprecated, use Base.#abs2 instead.\n",
      "  likely near /home/tan/.julia/v0.5/DataArrays/src/reduce.jl:130\n",
      "\n",
      "WARNING: Base.AddFun is deprecated, use Base.#+ instead.\n",
      "  likely near /home/tan/.julia/v0.5/DataArrays/src/reduce.jl:130\n",
      "\n",
      "WARNING: Base.AbsFun is deprecated, use Base.#abs instead.\n",
      "  likely near /home/tan/.julia/v0.5/DataArrays/src/reduce.jl:130\n",
      "WARNING: Base.AddFun is deprecated, use Base.#+ instead.\n",
      "  likely near /home/tan/.julia/v0.5/DataArrays/src/reduce.jl:130\n",
      "WARNING: Base.Abs2Fun is deprecated, use Base.#abs2 instead.\n",
      "  likely near /home/tan/.julia/v0.5/DataArrays/src/reduce.jl:130\n",
      "WARNING: Base.AddFun is deprecated, use Base.#+ instead.\n",
      "  likely near /home/tan/.julia/v0.5/DataArrays/src/reduce.jl:130\n",
      "WARNING: Base.AbsFun is deprecated, use Base.#abs instead.\n",
      "  likely near /home/tan/.julia/v0.5/DataArrays/src/reduce.jl:130\n",
      "WARNING: Base.AddFun is deprecated, use Base.#+ instead.\n",
      "  likely near /home/tan/.julia/v0.5/DataArrays/src/reduce.jl:130\n",
      "WARNING: Base.Abs2Fun is deprecated, use Base.#abs2 instead.\n",
      "  likely near /home/tan/.julia/v0.5/DataArrays/src/reduce.jl:130\n",
      "WARNING: Base.AddFun is deprecated, use Base.#+ instead.\n",
      "  likely near /home/tan/.julia/v0.5/DataArrays/src/reduce.jl:130\n",
      "WARNING: Base.AndFun is deprecated, use Base.#& instead.\n",
      "  likely near /home/tan/.julia/v0.5/DataArrays/src/reducedim.jl:10\n",
      "WARNING: Base.MinFun is deprecated, use Base.#scalarmin instead.\n",
      "  likely near /home/tan/.julia/v0.5/DataArrays/src/reducedim.jl:231\n",
      "WARNING: Base.MaxFun is deprecated, use Base.#scalarmax instead.\n",
      "  likely near /home/tan/.julia/v0.5/DataArrays/src/reducedim.jl:231\n",
      "WARNING: Base.MinFun is deprecated, use Base.#scalarmin instead.\n",
      "  likely near /home/tan/.julia/v0.5/DataArrays/src/reducedim.jl:235\n",
      "WARNING: Base.MaxFun is deprecated, use Base.#scalarmax instead.\n",
      "  likely near /home/tan/.julia/v0.5/DataArrays/src/reducedim.jl:235\n",
      "WARNING: Base.AddFun is deprecated, use Base.#+ instead.\n",
      "  likely near /home/tan/.julia/v0.5/DataArrays/src/reducedim.jl:244\n",
      "WARNING: Base.MulFun is deprecated, use Base.#* instead.\n",
      "  likely near /home/tan/.julia/v0.5/DataArrays/src/reducedim.jl:244\n",
      "WARNING: Base.AndFun is deprecated, use Base.#& instead.\n",
      "  likely near /home/tan/.julia/v0.5/DataArrays/src/reducedim.jl:244\n",
      "WARNING: Base.OrFun is deprecated, use Base.#| instead.\n",
      "  likely near /home/tan/.julia/v0.5/DataArrays/src/reducedim.jl:244\n",
      "WARNING: Base.MinFun is deprecated, use Base.#scalarmin instead.\n",
      "  likely near /home/tan/.julia/v0.5/DataArrays/src/reducedim.jl:244\n",
      "WARNING: Base.MaxFun is deprecated, use Base.#scalarmax instead.\n",
      "  likely near /home/tan/.julia/v0.5/DataArrays/src/reducedim.jl:244\n",
      "WARNING: Base.AddFun is deprecated, use Base.#+ instead.\n",
      "  likely near /home/tan/.julia/v0.5/DataArrays/src/reducedim.jl:244\n",
      "in anonymous at <no file>\n",
      "WARNING: Base.MulFun is deprecated, use Base.#* instead.\n",
      "  likely near /home/tan/.julia/v0.5/DataArrays/src/reducedim.jl:244\n",
      "in anonymous at <no file>\n",
      "WARNING: Base.AndFun is deprecated, use Base.#& instead.\n",
      "  likely near /home/tan/.julia/v0.5/DataArrays/src/reducedim.jl:244\n",
      "in anonymous at <no file>\n",
      "WARNING: Base.OrFun is deprecated, use Base.#| instead.\n",
      "  likely near /home/tan/.julia/v0.5/DataArrays/src/reducedim.jl:244\n",
      "in anonymous at <no file>\n",
      "WARNING: Base.MinFun is deprecated, use Base.#scalarmin instead.\n",
      "  likely near /home/tan/.julia/v0.5/DataArrays/src/reducedim.jl:244\n",
      "in anonymous at <no file>\n",
      "WARNING: Base.MaxFun is deprecated, use Base.#scalarmax instead.\n",
      "  likely near /home/tan/.julia/v0.5/DataArrays/src/reducedim.jl:244\n",
      "in anonymous at <no file>\n",
      "WARNING: Base.AddFun is deprecated, use Base.#+ instead.\n",
      "  likely near /home/tan/.julia/v0.5/DataArrays/src/reducedim.jl:289\n",
      "WARNING: Base.MulFun is deprecated, use Base.#* instead.\n",
      "  likely near /home/tan/.julia/v0.5/DataArrays/src/reducedim.jl:289\n",
      "WARNING: Base.MaxFun is deprecated, use Base.#scalarmax instead.\n",
      "  likely near /home/tan/.julia/v0.5/DataArrays/src/reducedim.jl:289\n",
      "WARNING: Base.MinFun is deprecated, use Base.#scalarmin instead.\n",
      "  likely near /home/tan/.julia/v0.5/DataArrays/src/reducedim.jl:289\n",
      "WARNING: Base.AndFun is deprecated, use Base.#& instead.\n",
      "  likely near /home/tan/.julia/v0.5/DataArrays/src/reducedim.jl:289\n",
      "WARNING: Base.OrFun is deprecated, use Base.#| instead.\n",
      "  likely near /home/tan/.julia/v0.5/DataArrays/src/reducedim.jl:289\n",
      "WARNING: Base.AddFun is deprecated, use Base.#+ instead.\n",
      "  likely near /home/tan/.julia/v0.5/DataArrays/src/reducedim.jl:289\n",
      "WARNING: Base.MulFun is deprecated, use Base.#* instead.\n",
      "  likely near /home/tan/.julia/v0.5/DataArrays/src/reducedim.jl:289\n",
      "WARNING: Base.MaxFun is deprecated, use Base.#scalarmax instead.\n",
      "  likely near /home/tan/.julia/v0.5/DataArrays/src/reducedim.jl:289\n",
      "WARNING: Base.MinFun is deprecated, use Base.#scalarmin instead.\n",
      "  likely near /home/tan/.julia/v0.5/DataArrays/src/reducedim.jl:289\n",
      "WARNING: Base.AndFun is deprecated, use Base.#& instead.\n",
      "  likely near /home/tan/.julia/v0.5/DataArrays/src/reducedim.jl:289\n",
      "WARNING: Base.OrFun is deprecated, use Base.#| instead.\n",
      "  likely near /home/tan/.julia/v0.5/DataArrays/src/reducedim.jl:289\n",
      "WARNING: Base.AddFun is deprecated, use Base.#+ instead.\n",
      "  likely near /home/tan/.julia/v0.5/DataArrays/src/reducedim.jl:289\n",
      "in anonymous at <no file>\n",
      "WARNING: Base.MulFun is deprecated, use Base.#* instead.\n",
      "  likely near /home/tan/.julia/v0.5/DataArrays/src/reducedim.jl:289\n",
      "in anonymous at <no file>\n",
      "WARNING: Base.MaxFun is deprecated, use Base.#scalarmax instead.\n",
      "  likely near /home/tan/.julia/v0.5/DataArrays/src/reducedim.jl:289\n",
      "in anonymous at <no file>\n",
      "WARNING: Base.MinFun is deprecated, use Base.#scalarmin instead.\n",
      "  likely near /home/tan/.julia/v0.5/DataArrays/src/reducedim.jl:289\n",
      "in anonymous at <no file>\n",
      "WARNING: Base.AndFun is deprecated, use Base.#& instead.\n",
      "  likely near /home/tan/.julia/v0.5/DataArrays/src/reducedim.jl:289\n",
      "in anonymous at <no file>\n",
      "WARNING: Base.OrFun is deprecated, use Base.#| instead.\n",
      "  likely near /home/tan/.julia/v0.5/DataArrays/src/reducedim.jl:289\n",
      "in anonymous at <no file>\n",
      "WARNING: Base.Func is deprecated, use Function instead.\n",
      "  likely near /home/tan/.julia/v0.5/DataArrays/src/reducedim.jl:295\n",
      "WARNING: Base.Func is deprecated, use Function instead.\n",
      "  likely near /home/tan/.julia/v0.5/DataArrays/src/reducedim.jl:295\n",
      "WARNING: Base.Func is deprecated, use Function instead.\n",
      "  likely near /home/tan/.julia/v0.5/DataArrays/src/reducedim.jl:295\n",
      "WARNING: Base.Func is deprecated, use Function instead.\n",
      "  likely near /home/tan/.julia/v0.5/DataArrays/src/reducedim.jl:301\n",
      "WARNING: Base.Func is deprecated, use Function instead.\n",
      "  likely near /home/tan/.julia/v0.5/DataArrays/src/reducedim.jl:301\n",
      "WARNING: Base.Func is deprecated, use Function instead.\n",
      "  likely near /home/tan/.julia/v0.5/DataArrays/src/reducedim.jl:301\n",
      "WARNING: Base.Func is deprecated, use Function instead.\n",
      "  likely near /home/tan/.julia/v0.5/DataArrays/src/reducedim.jl:295\n",
      "WARNING: Base.Func is deprecated, use Function instead.\n",
      "  likely near /home/tan/.julia/v0.5/DataArrays/src/reducedim.jl:295\n",
      "WARNING: Base.Func is deprecated, use Function instead.\n",
      "  likely near /home/tan/.julia/v0.5/DataArrays/src/reducedim.jl:295\n",
      "WARNING: Base.Func is deprecated, use Function instead.\n",
      "  likely near /home/tan/.julia/v0.5/DataArrays/src/reducedim.jl:301\n",
      "WARNING: Base.Func is deprecated, use Function instead.\n",
      "  likely near /home/tan/.julia/v0.5/DataArrays/src/reducedim.jl:301\n",
      "WARNING: Base.Func is deprecated, use Function instead.\n",
      "  likely near /home/tan/.julia/v0.5/DataArrays/src/reducedim.jl:301\n",
      "WARNING: Base.Func is deprecated, use Function instead.\n",
      "  likely near /home/tan/.julia/v0.5/DataArrays/src/reducedim.jl:295\n",
      "WARNING: Base.Func is deprecated, use Function instead.\n",
      "  likely near /home/tan/.julia/v0.5/DataArrays/src/reducedim.jl:295\n",
      "WARNING: Base.Func is deprecated, use Function instead.\n",
      "  likely near /home/tan/.julia/v0.5/DataArrays/src/reducedim.jl:295\n",
      "WARNING: Base.Func is deprecated, use Function instead.\n",
      "  likely near /home/tan/.julia/v0.5/DataArrays/src/reducedim.jl:301\n",
      "WARNING: Base.Func is deprecated, use Function instead.\n",
      "  likely near /home/tan/.julia/v0.5/DataArrays/src/reducedim.jl:301\n",
      "WARNING: Base.Func is deprecated, use Function instead.\n",
      "  likely near /home/tan/.julia/v0.5/DataArrays/src/reducedim.jl:301\n",
      "WARNING: Base.Func is deprecated, use Function instead.\n",
      "  likely near /home/tan/.julia/v0.5/DataArrays/src/reducedim.jl:295\n",
      "WARNING: Base.Func is deprecated, use Function instead.\n",
      "  likely near /home/tan/.julia/v0.5/DataArrays/src/reducedim.jl:295\n",
      "WARNING: Base.Func is deprecated, use Function instead.\n",
      "  likely near /home/tan/.julia/v0.5/DataArrays/src/reducedim.jl:295\n",
      "WARNING: Base.Func is deprecated, use Function instead.\n",
      "  likely near /home/tan/.julia/v0.5/DataArrays/src/reducedim.jl:301\n",
      "WARNING: Base.Func is deprecated, use Function instead.\n",
      "  likely near /home/tan/.julia/v0.5/DataArrays/src/reducedim.jl:301\n",
      "WARNING: Base.Func is deprecated, use Function instead.\n",
      "  likely near /home/tan/.julia/v0.5/DataArrays/src/reducedim.jl:301\n",
      "WARNING: Base.Func is deprecated, use Function instead.\n",
      "  likely near /home/tan/.julia/v0.5/DataArrays/src/reducedim.jl:295\n",
      "WARNING: Base.Func is deprecated, use Function instead.\n",
      "  likely near /home/tan/.julia/v0.5/DataArrays/src/reducedim.jl:295\n",
      "WARNING: Base.Func is deprecated, use Function instead.\n",
      "  likely near /home/tan/.julia/v0.5/DataArrays/src/reducedim.jl:295\n",
      "WARNING: Base.Func is deprecated, use Function instead.\n",
      "  likely near /home/tan/.julia/v0.5/DataArrays/src/reducedim.jl:301\n",
      "WARNING: Base.Func is deprecated, use Function instead.\n",
      "  likely near /home/tan/.julia/v0.5/DataArrays/src/reducedim.jl:301\n",
      "WARNING: Base.Func is deprecated, use Function instead.\n",
      "  likely near /home/tan/.julia/v0.5/DataArrays/src/reducedim.jl:301\n",
      "WARNING: Base.Func is deprecated, use Function instead.\n",
      "  likely near /home/tan/.julia/v0.5/DataArrays/src/reducedim.jl:295\n",
      "WARNING: Base.Func is deprecated, use Function instead.\n",
      "  likely near /home/tan/.julia/v0.5/DataArrays/src/reducedim.jl:295\n",
      "WARNING: Base.Func is deprecated, use Function instead.\n",
      "  likely near /home/tan/.julia/v0.5/DataArrays/src/reducedim.jl:295\n",
      "WARNING: Base.Func is deprecated, use Function instead.\n",
      "  likely near /home/tan/.julia/v0.5/DataArrays/src/reducedim.jl:301\n",
      "WARNING: Base.Func is deprecated, use Function instead.\n",
      "  likely near /home/tan/.julia/v0.5/DataArrays/src/reducedim.jl:301\n",
      "WARNING: Base.Func is deprecated, use Function instead.\n",
      "  likely near /home/tan/.julia/v0.5/DataArrays/src/reducedim.jl:301\n",
      "WARNING: Base.AbsFun is deprecated, use Base.#abs instead.\n",
      "  likely near /home/tan/.julia/v0.5/DataArrays/src/reducedim.jl:308\n",
      "WARNING: Base.Abs2Fun is deprecated, use Base.#abs2 instead.\n",
      "  likely near /home/tan/.julia/v0.5/DataArrays/src/reducedim.jl:308\n",
      "WARNING: Base.AbsFun is deprecated, use Base.#abs instead.\n",
      "  likely near /home/tan/.julia/v0.5/DataArrays/src/reducedim.jl:308\n",
      "WARNING: Base.AbsFun is deprecated, use Base.#abs instead.\n",
      "  likely near /home/tan/.julia/v0.5/DataArrays/src/reducedim.jl:308\n",
      "WARNING: Base.AbsFun is deprecated, use Base.#abs instead.\n",
      "  likely near /home/tan/.julia/v0.5/DataArrays/src/reducedim.jl:308\n",
      "WARNING: Base.Abs2Fun is deprecated, use Base.#abs2 instead.\n",
      "  likely near /home/tan/.julia/v0.5/DataArrays/src/reducedim.jl:308\n",
      "WARNING: Base.AbsFun is deprecated, use Base.#abs instead.\n",
      "  likely near /home/tan/.julia/v0.5/DataArrays/src/reducedim.jl:308\n",
      "WARNING: Base.AbsFun is deprecated, use Base.#abs instead.\n",
      "  likely near /home/tan/.julia/v0.5/DataArrays/src/reducedim.jl:308\n",
      "WARNING: Base.AbsFun is deprecated, use Base.#abs instead.\n",
      "  likely near /home/tan/.julia/v0.5/DataArrays/src/reducedim.jl:308\n",
      "in anonymous at <no file>\n",
      "WARNING: Base.Abs2Fun is deprecated, use Base.#abs2 instead.\n",
      "  likely near /home/tan/.julia/v0.5/DataArrays/src/reducedim.jl:308\n",
      "in anonymous at <no file>\n",
      "WARNING: Base.AbsFun is deprecated, use Base.#abs instead.\n",
      "  likely near /home/tan/.julia/v0.5/DataArrays/src/reducedim.jl:308\n",
      "in anonymous at <no file>\n",
      "WARNING: Base.AbsFun is deprecated, use Base.#abs instead.\n",
      "  likely near /home/tan/.julia/v0.5/DataArrays/src/reducedim.jl:308\n",
      "in anonymous at <no file>\n",
      "WARNING: local variable K conflicts with a static parameter in _unsafe_pdaref! at /home/tan/.julia/v0.5/DataArrays/src/broadcast.jl:42.\n",
      "WARNING: local variable V conflicts with a static parameter in _unsafe_pdaref! at /home/tan/.julia/v0.5/DataArrays/src/broadcast.jl:42.\n",
      "WARNING: Method definition map!(Union{DataType, Function}, DataArrays.DataArray, Base.Range) in module DataArrays at /home/tan/.julia/v0.5/DataArrays/src/broadcast.jl:211 overwritten at /home/tan/.julia/v0.5/DataArrays/src/broadcast.jl:211.\n",
      "WARNING: Method definition map!(Union{DataType, Function}, DataArrays.PooledDataArray, Base.Range) in module DataArrays at /home/tan/.julia/v0.5/DataArrays/src/broadcast.jl:211 overwritten at /home/tan/.julia/v0.5/DataArrays/src/broadcast.jl:211.\n",
      "WARNING: Method definition rep(AbstractArray{T<:Any, 1}) in module DataArrays at /home/tan/.julia/v0.5/DataArrays/src/extras.jl:83 overwritten at /home/tan/.julia/v0.5/DataArrays/src/extras.jl:98.\n",
      "INFO: Recompiling stale cache file /home/tan/.julia/lib/v0.5/GZip.ji for module GZip.\n",
      "WARNING: Base.FileOffset is deprecated, use Int64 instead.\n",
      "  likely near /home/tan/.julia/v0.5/GZip/src/zlib_h.jl:86\n",
      "WARNING: Base.FileOffset is deprecated, use Int64 instead.\n",
      "  likely near /home/tan/.julia/v0.5/GZip/src/zlib_h.jl:88\n",
      "WARNING: Base.FileOffset is deprecated, use Int64 instead.\n",
      "  likely near /home/tan/.julia/v0.5/GZip/src/zlib_h.jl:88\n",
      "INFO: Recompiling stale cache file /home/tan/.julia/lib/v0.5/SortingAlgorithms.ji for module SortingAlgorithms.\n",
      "INFO: Recompiling stale cache file /home/tan/.julia/lib/v0.5/Docile.ji for module Docile.\n",
      "WARNING: Base.LambdaStaticData is deprecated, use LambdaInfo instead.\n",
      "  likely near /home/tan/.julia/v0.5/Docile/src/Utilities.jl:122\n",
      "WARNING: New definition \n",
      "    size(DataFrames.ModelMatrix, Any...) at /home/tan/.julia/v0.5/DataFrames/src/statsmodels/formula.jl:48\n",
      "is ambiguous with: \n",
      "    size(Any, Integer, Integer, Integer...) at abstractarray.jl:23.\n",
      "To fix, define \n",
      "    size(DataFrames.ModelMatrix, Integer, Integer, Integer...)\n",
      "before the new definition.\n",
      "WARNING: New definition \n",
      "    size(DataFrames.ModelMatrix, Any...) at /home/tan/.julia/v0.5/DataFrames/src/statsmodels/formula.jl:48\n",
      "is ambiguous with: \n",
      "    size(Any, Integer, Integer, Integer...) at abstractarray.jl:23.\n",
      "To fix, define \n",
      "    size(DataFrames.ModelMatrix, Integer, Integer, Integer...)\n",
      "before the new definition.\n",
      "\n",
      "WARNING: deprecated syntax \"call(::Type{Indexes}, ...)\".\n",
      "Use \"(::Type{Indexes})(...)\" instead.\n"
     ]
    }
   ],
   "source": [
    "using DataFrames\n",
    "using JuliaTS\n",
    "using NDSparseData"
   ]
  },
  {
   "cell_type": "code",
   "execution_count": 2,
   "metadata": {
    "collapsed": false
   },
   "outputs": [
    {
     "name": "stdout",
     "output_type": "stream",
     "text": [
      " 55.630284 seconds (183.21 M allocations: 8.989 GB, 18.65% gc time)\n"
     ]
    },
    {
     "name": "stderr",
     "output_type": "stream",
     "text": [
      "WARNING: tty_size is deprecated. use `displaysize(io)` as a replacement\n",
      " [inlined code] from ./error.jl:26\n",
      " in depwarn("
     ]
    },
    {
     "data": {
      "text/html": [
       "<table class=\"data-frame\"><tr><th></th><th>messagetype</th><th>timestamp</th><th>symbol</th><th>ordertype</th><th>price</th><th>quantity</th></tr><tr><th>1</th><td>N</td><td>2015-11-02 09:15:00.028</td><td>ZIJYHGMAQB</td><td>S</td><td>30</td><td>1000000</td></tr><tr><th>2</th><td>N</td><td>2015-11-02 09:15:00.028</td><td>DLINPKXTEH</td><td>S</td><td>7100</td><td>1</td></tr><tr><th>3</th><td>N</td><td>2015-11-02 09:15:00.028</td><td>GUBMZEKWIJ</td><td>S</td><td>6690</td><td>1500</td></tr><tr><th>4</th><td>N</td><td>2015-11-02 09:15:00.028</td><td>HYNEGMRZKF</td><td>S</td><td>20</td><td>1000000</td></tr><tr><th>5</th><td>N</td><td>2015-11-02 09:15:00.028</td><td>DLINPKXTEH</td><td>B</td><td>4800</td><td>1</td></tr><tr><th>6</th><td>N</td><td>2015-11-02 09:15:00.028</td><td>OZBAVQMLYK</td><td>B</td><td>447005</td><td>3</td></tr></table>"
      ],
      "text/plain": [
       "6x6 DataFrames.DataFrame\n",
       "│ Row │ messagetype │ timestamp                 │ symbol       │ ordertype │\n",
       "┝━━━━━┿━━━━━━━━━━━━━┿━━━━━━━━━━━━━━━━━━━━━━━━━━━┿━━━━━━━━━━━━━━┿━━━━━━━━━━━┥\n",
       "│ 1   │ \"N\"         │ \"2015-11-02 09:15:00.028\" │ \"ZIJYHGMAQB\" │ \"S\"       │\n",
       "│ 2   │ \"N\"         │ \"2015-11-02 09:15:00.028\" │ \"DLINPKXTEH\" │ \"S\"       │\n",
       "│ 3   │ \"N\"         │ \"2015-11-02 09:15:00.028\" │ \"GUBMZEKWIJ\" │ \"S\"       │\n",
       "│ 4   │ \"N\"         │ \"2015-11-02 09:15:00.028\" │ \"HYNEGMRZKF\" │ \"S\"       │\n",
       "│ 5   │ \"N\"         │ \"2015-11-02 09:15:00.028\" │ \"DLINPKXTEH\" │ \"B\"       │\n",
       "│ 6   │ \"N\"         │ \"2015-11-02 09:15:00.028\" │ \"OZBAVQMLYK\" │ \"B\"       │\n",
       "\n",
       "│ Row │ price  │ quantity │\n",
       "┝━━━━━┿━━━━━━━━┿━━━━━━━━━━┥\n",
       "│ 1   │ 30     │ 1000000  │\n",
       "│ 2   │ 7100   │ 1        │\n",
       "│ 3   │ 6690   │ 1500     │\n",
       "│ 4   │ 20     │ 1000000  │\n",
       "│ 5   │ 4800   │ 1        │\n",
       "│ 6   │ 447005 │ 3        │"
      ]
     },
     "execution_count": 2,
     "metadata": {},
     "output_type": "execute_result"
    },
    {
     "name": "stderr",
     "output_type": "stream",
     "text": [
      "::ASCIIString, ::Symbol) at ./deprecated.jl:64\n",
      " in tty_size() at ./deprecated.jl:902\n",
      " in writemime(::Base.AbstractIOBuffer{Array{UInt8,1}}, ::MIME{symbol(\"text/html\")}, ::DataFrames.DataFrame) at /home/tan/.julia/v0.5/DataFrames/src/abstractdataframe/io.jl:177\n",
      " in #sprint#131(::Void, ::Any, ::Int64, ::Any, ::MIME{symbol(\"text/html\")}, ::Vararg{Any}) at ./strings/io.jl:38\n",
      " [inlined code] from ./strings/io.jl:33\n",
      " in display_dict(::DataFrames.DataFrame) at /home/tan/.julia/v0.5/IJulia/src/execute_request.jl:39\n",
      " in execute_request_0x535c5df2(::ZMQ.Socket, ::IJulia.Msg) at /home/tan/.julia/v0.5/IJulia/src/execute_request.jl:213\n",
      " [inlined code] from ./dict.jl:777\n",
      " in eventloop(::ZMQ.Socket) at /home/tan/.julia/v0.5/IJulia/src/IJulia.jl:142\n",
      " in (::IJulia.##24#30)() at ./task.jl:308\n",
      "while loading /home/tan/.julia/v0.5/IJulia/src/kernel.jl, in expression starting on line 31\n"
     ]
    }
   ],
   "source": [
    "@time cash = readtable(\"sample_cash.csv\")\n",
    "head(cash)"
   ]
  },
  {
   "cell_type": "code",
   "execution_count": 3,
   "metadata": {
    "collapsed": false
   },
   "outputs": [
    {
     "data": {
      "text/plain": [
       "6668829-element Array{UTF8String,1}:\n",
       " \"2015-11-02 09:15:00.028\"\n",
       " \"2015-11-02 09:15:00.028\"\n",
       " \"2015-11-02 09:15:00.028\"\n",
       " \"2015-11-02 09:15:00.028\"\n",
       " \"2015-11-02 09:15:00.028\"\n",
       " \"2015-11-02 09:15:00.028\"\n",
       " \"2015-11-02 09:15:00.028\"\n",
       " \"2015-11-02 09:15:00.028\"\n",
       " \"2015-11-02 09:15:00.028\"\n",
       " \"2015-11-02 09:15:00.028\"\n",
       " \"2015-11-02 09:15:00.028\"\n",
       " \"2015-11-02 09:15:00.028\"\n",
       " \"2015-11-02 09:15:00.028\"\n",
       " ⋮                        \n",
       " \"2015-11-02 10:44:59.987\"\n",
       " \"2015-11-02 10:44:59.989\"\n",
       " \"2015-11-02 10:44:59.990\"\n",
       " \"2015-11-02 10:44:59.990\"\n",
       " \"2015-11-02 10:44:59.990\"\n",
       " \"2015-11-02 10:44:59.990\"\n",
       " \"2015-11-02 10:44:59.990\"\n",
       " \"2015-11-02 10:44:59.990\"\n",
       " \"2015-11-02 10:44:59.990\"\n",
       " \"2015-11-02 10:44:59.992\"\n",
       " \"2015-11-02 10:44:59.993\"\n",
       " \"2015-11-02 10:44:59.996\""
      ]
     },
     "execution_count": 3,
     "metadata": {},
     "output_type": "execute_result"
    }
   ],
   "source": [
    "times = convert(Vector, cash[:timestamp])"
   ]
  },
  {
   "cell_type": "code",
   "execution_count": 4,
   "metadata": {
    "collapsed": false
   },
   "outputs": [
    {
     "name": "stdout",
     "output_type": "stream",
     "text": [
      "253.065893 seconds (600.71 M allocations: 20.344 GB, 34.40% gc time)\n"
     ]
    },
    {
     "data": {
      "text/plain": [
       "6668829-element Array{DateTime,1}:\n",
       " 2015-11-02T09:15:00.028\n",
       " 2015-11-02T09:15:00.028\n",
       " 2015-11-02T09:15:00.028\n",
       " 2015-11-02T09:15:00.028\n",
       " 2015-11-02T09:15:00.028\n",
       " 2015-11-02T09:15:00.028\n",
       " 2015-11-02T09:15:00.028\n",
       " 2015-11-02T09:15:00.028\n",
       " 2015-11-02T09:15:00.028\n",
       " 2015-11-02T09:15:00.028\n",
       " 2015-11-02T09:15:00.028\n",
       " 2015-11-02T09:15:00.028\n",
       " 2015-11-02T09:15:00.028\n",
       " ⋮                      \n",
       " 2015-11-02T10:44:59.987\n",
       " 2015-11-02T10:44:59.989\n",
       " 2015-11-02T10:44:59.99 \n",
       " 2015-11-02T10:44:59.99 \n",
       " 2015-11-02T10:44:59.99 \n",
       " 2015-11-02T10:44:59.99 \n",
       " 2015-11-02T10:44:59.99 \n",
       " 2015-11-02T10:44:59.99 \n",
       " 2015-11-02T10:44:59.99 \n",
       " 2015-11-02T10:44:59.992\n",
       " 2015-11-02T10:44:59.993\n",
       " 2015-11-02T10:44:59.996"
      ]
     },
     "execution_count": 4,
     "metadata": {},
     "output_type": "execute_result"
    }
   ],
   "source": [
    "dfmt = Dates.DateFormat(\"yyyy-mm-dd HH:MM:SS.sss\")\n",
    "@time t = DateTime(times, dfmt)"
   ]
  },
  {
   "cell_type": "code",
   "execution_count": 5,
   "metadata": {
    "collapsed": false
   },
   "outputs": [
    {
     "name": "stdout",
     "output_type": "stream",
     "text": [
      "258.106857 seconds (600.22 M allocations: 20.324 GB, 34.68% gc time)\n"
     ]
    },
    {
     "data": {
      "text/html": [
       "<table class=\"data-frame\"><tr><th></th><th>timestamp</th><th>symbol</th><th>price</th></tr><tr><th>1</th><td>2015-11-02T09:15:00.028</td><td>ZIJYHGMAQB</td><td>30</td></tr><tr><th>2</th><td>2015-11-02T09:15:00.028</td><td>DLINPKXTEH</td><td>7100</td></tr><tr><th>3</th><td>2015-11-02T09:15:00.028</td><td>GUBMZEKWIJ</td><td>6690</td></tr><tr><th>4</th><td>2015-11-02T09:15:00.028</td><td>HYNEGMRZKF</td><td>20</td></tr><tr><th>5</th><td>2015-11-02T09:15:00.028</td><td>DLINPKXTEH</td><td>4800</td></tr><tr><th>6</th><td>2015-11-02T09:15:00.028</td><td>OZBAVQMLYK</td><td>447005</td></tr></table>"
      ],
      "text/plain": [
       "6x3 DataFrames.DataFrame\n",
       "│ Row │ timestamp               │ symbol       │ price  │\n",
       "┝━━━━━┿━━━━━━━━━━━━━━━━━━━━━━━━━┿━━━━━━━━━━━━━━┿━━━━━━━━┥\n",
       "│ 1   │ 2015-11-02T09:15:00.028 │ \"ZIJYHGMAQB\" │ 30     │\n",
       "│ 2   │ 2015-11-02T09:15:00.028 │ \"DLINPKXTEH\" │ 7100   │\n",
       "│ 3   │ 2015-11-02T09:15:00.028 │ \"GUBMZEKWIJ\" │ 6690   │\n",
       "│ 4   │ 2015-11-02T09:15:00.028 │ \"HYNEGMRZKF\" │ 20     │\n",
       "│ 5   │ 2015-11-02T09:15:00.028 │ \"DLINPKXTEH\" │ 4800   │\n",
       "│ 6   │ 2015-11-02T09:15:00.028 │ \"OZBAVQMLYK\" │ 447005 │"
      ]
     },
     "execution_count": 5,
     "metadata": {},
     "output_type": "execute_result"
    }
   ],
   "source": [
    "order_prices = cash[[:timestamp, :symbol, :price]]\n",
    "dfmt = Dates.DateFormat(\"yyyy-mm-dd HH:MM:SS.sss\")\n",
    "@time order_prices[:timestamp] = DateTime(order_prices[:timestamp], dfmt)\n",
    "head(order_prices)"
   ]
  },
  {
   "cell_type": "code",
   "execution_count": 6,
   "metadata": {
    "collapsed": false
   },
   "outputs": [
    {
     "name": "stdout",
     "output_type": "stream",
     "text": [
      "  4.086651 seconds (9.16 M allocations: 156.217 MB, 11.36% gc time)\n"
     ]
    },
    {
     "data": {
      "text/html": [
       "<table class=\"data-frame\"><tr><th></th><th>timestamp</th><th>symbol</th><th>price</th></tr><tr><th>1</th><td>2015-11-02T09:15:00.028</td><td>1424</td><td>30</td></tr><tr><th>2</th><td>2015-11-02T09:15:00.028</td><td>190</td><td>7100</td></tr><tr><th>3</th><td>2015-11-02T09:15:00.028</td><td>370</td><td>6690</td></tr><tr><th>4</th><td>2015-11-02T09:15:00.028</td><td>431</td><td>20</td></tr><tr><th>5</th><td>2015-11-02T09:15:00.028</td><td>190</td><td>4800</td></tr><tr><th>6</th><td>2015-11-02T09:15:00.028</td><td>815</td><td>447005</td></tr></table>"
      ],
      "text/plain": [
       "6x3 DataFrames.DataFrame\n",
       "│ Row │ timestamp               │ symbol │ price  │\n",
       "┝━━━━━┿━━━━━━━━━━━━━━━━━━━━━━━━━┿━━━━━━━━┿━━━━━━━━┥\n",
       "│ 1   │ 2015-11-02T09:15:00.028 │ 1424   │ 30     │\n",
       "│ 2   │ 2015-11-02T09:15:00.028 │ 190    │ 7100   │\n",
       "│ 3   │ 2015-11-02T09:15:00.028 │ 370    │ 6690   │\n",
       "│ 4   │ 2015-11-02T09:15:00.028 │ 431    │ 20     │\n",
       "│ 5   │ 2015-11-02T09:15:00.028 │ 190    │ 4800   │\n",
       "│ 6   │ 2015-11-02T09:15:00.028 │ 815    │ 447005 │"
      ]
     },
     "execution_count": 6,
     "metadata": {},
     "output_type": "execute_result"
    }
   ],
   "source": [
    "function prep_cat(col)\n",
    "    cats = sort(convert(Vector{ASCIIString}, unique(col)))\n",
    "    out = Array(Int16, length(col))\n",
    "    for idx in 1:length(out)\n",
    "        out[idx] = searchsortedfirst(cats, col[idx])\n",
    "    end\n",
    "    # ideally, should return cats also, to be referred to later\n",
    "    out\n",
    "end\n",
    "@time order_prices[:symbol] = prep_cat(order_prices[:symbol])\n",
    "head(order_prices)"
   ]
  },
  {
   "cell_type": "code",
   "execution_count": 7,
   "metadata": {
    "collapsed": false
   },
   "outputs": [
    {
     "name": "stdout",
     "output_type": "stream",
     "text": [
      " 10.034561 seconds (783.97 k allocations: 236.105 MB, 41.69% gc time)\n"
     ]
    },
    {
     "data": {
      "text/plain": [
       "Tuple{Int16,DateTime} => Tuple{Float64}\n",
       " (1,2015-11-02T09:15:07.25) => (3000.0,) (1,2015-11-02T09:15:21.279) => (2900.0,) (1,2015-11-02T09:15:21.279) => (2675.0,) (1,2015-11-02T09:15:48.331) => (3200.0,) (1,2015-11-02T09:16:29.025) => (3290.0,) (1,2015-11-02T09:17:16.105) => (3650.0,) (1,2015-11-02T09:18:02) => (3195.0,) (1,2015-11-02T09:18:10.622) => (3005.0,) (1,2015-11-02T09:19:28.437) => (2610.0,) (1,2015-11-02T09:19:28.44) => (2790.0,) (1472,2015-11-02T10:44:52.793) => (39500.0,) (1472,2015-11-02T10:44:52.793) => (39500.0,) (1472,2015-11-02T10:44:52.793) => (39500.0,) (1472,2015-11-02T10:44:52.793) => (39500.0,) (1472,2015-11-02T10:44:52.793) => (39500.0,) (1472,2015-11-02T10:44:52.793) => (39500.0,) (1472,2015-11-02T10:44:52.793) => (39500.0,) (1472,2015-11-02T10:44:52.793) => (39500.0,) (1472,2015-11-02T10:44:52.793) => (39500.0,) (1472,2015-11-02T10:44:52.793) => (39500.0,)"
      ]
     },
     "execution_count": 7,
     "metadata": {},
     "output_type": "execute_result"
    },
    {
     "name": "stdout",
     "output_type": "stream",
     "text": [
      "TArray 6668829x3  (\"symbol\",\"timestamp\") => (\"price\",)\n",
      "\n",
      "\n",
      "\n",
      "\n",
      "\n",
      "\n",
      "\n",
      "\n",
      "\n",
      "\n",
      " ⋮\n",
      "\n",
      "\n",
      "\n",
      "\n",
      "\n",
      "\n",
      "\n",
      "\n",
      "\n"
     ]
    }
   ],
   "source": [
    "ts = convert(Vector{DateTime}, order_prices[:timestamp])\n",
    "symb = convert(Vector{Int16}, order_prices[:symbol])\n",
    "price = convert(Vector{Float64}, order_prices[:price])\n",
    "keynames = (\"symbol\",\"timestamp\")\n",
    "colnames = (\"symbol\",\"timestamp\", \"price\")\n",
    "@time cashts = TArray(keynames, \"timestamp\"=>ts, \"symbol\"=>symb, \"price\"=>price)\n",
    "cashts"
   ]
  },
  {
   "cell_type": "code",
   "execution_count": 8,
   "metadata": {
    "collapsed": false
   },
   "outputs": [
    {
     "name": "stdout",
     "output_type": "stream",
     "text": [
      "  3.125682 seconds (1.50 M allocations: 435.958 MB, 63.09% gc time)\n"
     ]
    },
    {
     "data": {
      "text/plain": [
       "Tuple{Int16,DateTime} => Tuple{Float64,Float64,Float64,Float64}\n",
       " (1,2015-11-02T09:15:07.25) => (3000.0,16250.0,180.0,3040.0) (2,2015-11-02T09:15:00.075) => (41250.0,81000.0,4420.0,81000.0) (3,2015-11-02T09:15:02.548) => (14490.0,27400.0,6010.0,22210.0) (4,2015-11-02T09:15:01.608) => (16200.0,240700.0,110.0,500.0) (5,2015-11-02T09:15:00.028) => (13645.0,109955.0,200.0,13975.0) (6,2015-11-02T09:15:00.069) => (26370.0,139200.0,2790.0,117160.0) (7,2015-11-02T09:15:02.615) => (2405.0,88530.0,455.0,25190.0) (8,2015-11-02T09:15:00.082) => (51000.0,62440.0,5.0,5.0) (9,2015-11-02T09:15:00.036) => (46000.0,53700.0,2920.0,3840.0) (10,2015-11-02T09:15:02.285) => (148000.0,221100.0,760.0,6355.0) (1463,2015-11-02T09:15:00.048) => (1370.0,231000.0,905.0,990.0) (1464,2015-11-02T09:15:00.065) => (11240.0,57500.0,1320.0,9900.0) (1465,2015-11-02T09:15:00.079) => (8800.0,999990.0,7650.0,90250.0) (1466,2015-11-02T09:15:00.045) => (5400.0,171900.0,800.0,17100.0) (1467,2015-11-02T09:15:00.04) => (13895.0,50360.0,6875.0,7995.0) (1468,2015-11-02T09:15:00.045) => (80155.0,102500.0,2200.0,2625.0) (1469,2015-11-02T09:15:00.058) => (17430.0,67500.0,5265.0,57100.0) (1470,2015-11-02T09:15:00.062) => (138995.0,164600.0,106000.0,147820.0) (1471,2015-11-02T09:15:00.038) => (16550.0,44900.0,4755.0,26060.0) (1472,2015-11-02T09:15:00.036) => (730000.0,740800.0,1305.0,39500.0)"
      ]
     },
     "execution_count": 8,
     "metadata": {},
     "output_type": "execute_result"
    },
    {
     "name": "stdout",
     "output_type": "stream",
     "text": [
      "TArray 1472x6  (\"symbol\",\"timestamp\") => (\"open\",\"high\",\"low\",\"close\")\n",
      "\n",
      "\n",
      "\n",
      "\n",
      "\n",
      "\n",
      "\n",
      "\n",
      "\n",
      "\n",
      " ⋮\n",
      "\n",
      "\n",
      "\n",
      "\n",
      "\n",
      "\n",
      "\n",
      "\n",
      "\n"
     ]
    }
   ],
   "source": [
    "ohlc(symbs,timestamps,prices) = (symbs[1], timestamps[1], prices[1], maximum(prices), minimum(prices), prices[end])\n",
    "function calc_ohlc(prices)\n",
    "    taout = TArray(prices.keynames, \"symbol\"=>Int16[], \"timestamp\"=>DateTime[], \"open\"=>Float64[], \"high\"=>Float64[], \"low\"=>Float64[], \"close\"=>Float64[])\n",
    "    w = KeyWindow((1,DateTime(\"2015-11-02\")), (1, Base.Dates.Day(0)), (0, Base.Dates.Day(1)))\n",
    "    window!(taout, prices, w, ohlc)\n",
    "end\n",
    "@time ohlcprices = calc_ohlc(cashts)\n",
    "ohlcprices"
   ]
  },
  {
   "cell_type": "code",
   "execution_count": null,
   "metadata": {
    "collapsed": true
   },
   "outputs": [],
   "source": []
  }
 ],
 "metadata": {
  "kernelspec": {
   "display_name": "Julia 0.5.0-dev",
   "language": "julia",
   "name": "julia-0.5"
  },
  "language_info": {
   "file_extension": ".jl",
   "mimetype": "application/julia",
   "name": "julia",
   "version": "0.5.0"
  }
 },
 "nbformat": 4,
 "nbformat_minor": 0
}
